{
 "cells": [
  {
   "cell_type": "markdown",
   "metadata": {},
   "source": [
    "### 0. Import libraries ###"
   ]
  },
  {
   "cell_type": "code",
   "execution_count": 1,
   "metadata": {},
   "outputs": [
    {
     "name": "stdout",
     "output_type": "stream",
     "text": [
      "Done\n"
     ]
    }
   ],
   "source": [
    "#!/usr/bin/env python3\n",
    "# -*- coding: utf-8 -*-\n",
    "\"\"\"\n",
    "Created on Fri Oct 16 09:35:11 2020\n",
    "@author: hongli\n",
    "\"\"\"\n",
    "import os, fiona\n",
    "import numpy as np\n",
    "import rasterio as rio\n",
    "from rasterio.warp import calculate_default_transform, reproject, Resampling\n",
    "import geopandas as gpd\n",
    "import fiona.crs \n",
    "import rasterio.mask\n",
    "import pandas as pd\n",
    "from scipy import stats\n",
    "import skimage.transform as st\n",
    "import matplotlib.pyplot as plt \n",
    "from osgeo import gdal\n",
    "gdal.UseExceptions()\n",
    "import geospatial_functions.geospatial as gs\n",
    "\n",
    "print('Done')"
   ]
  },
  {
   "cell_type": "markdown",
   "metadata": {},
   "source": [
    "### 0. Specify file paths ###"
   ]
  },
  {
   "cell_type": "code",
   "execution_count": 2,
   "metadata": {},
   "outputs": [
    {
     "name": "stdout",
     "output_type": "stream",
     "text": [
      "Done\n"
     ]
    }
   ],
   "source": [
    "# main script\n",
    "case = 'yampa'\n",
    "\n",
    "# --- common source file paths ---\n",
    "root_dir = '/glade/u/home/hongli/scratch/2020_11_29discretization_error/discretize'\n",
    "\n",
    "dem_raster = os.path.join(root_dir, 'source_data/MERIT_Hydro_dem_NLDAS.tif')\n",
    "dem_raster_prj = os.path.join(root_dir, 'source_data/MERIT_Hydro_dem_NLDAS_prj.tif')\n",
    "\n",
    "lc_raster = os.path.join(root_dir, 'source_data/nldas_landcover.tif') \n",
    "lc_raster_prj = os.path.join(root_dir, 'source_data/nldas_landcover_prj.tif')\n",
    "\n",
    "# --- case study depedent file paths ----\n",
    "case_dir = os.path.join(root_dir, case)\n",
    "sub_shp = os.path.join(case_dir, 'huc12.shp')\n",
    "if not os.path.exists(case_dir):\n",
    "    os.makedirs(case_dir)\n",
    "\n",
    "buf_dist = 600 # meter\n",
    "    \n",
    "dem_crop = os.path.join(case_dir, 'dem_crop.tif')\n",
    "dem_crop_buf = os.path.join(case_dir, 'dem_crop_buf.tif')\n",
    "dem_class_raster = os.path.join(case_dir, 'dem_class.tif')\n",
    "dem_value_raster = os.path.join(case_dir, 'dem_value.tif')\n",
    "\n",
    "slp_crop_buf = os.path.join(case_dir, 'slope_crop_buf.tif')\n",
    "slp_crop = os.path.join(case_dir, 'slope_crop.tif')\n",
    "slp_class_raster = os.path.join(case_dir, 'slope_class.tif')\n",
    "slp_value_raster = os.path.join(case_dir, 'slope_value.tif')\n",
    "\n",
    "asp_crop_buf = os.path.join(case_dir, 'aspect_crop_buf.tif')\n",
    "asp_crop = os.path.join(case_dir, 'aspect_crop.tif')\n",
    "asp_crop_180 = os.path.join(case_dir, 'aspect_crop_180.tif')\n",
    "asp_class_raster = os.path.join(case_dir, 'aspect_class.tif')\n",
    "asp_value_raster = os.path.join(case_dir, 'aspect_value.tif')\n",
    "\n",
    "lc_crop = os.path.join(case_dir, 'landcover_crop.tif')\n",
    "lc_crop_resample = os.path.join(case_dir, 'landcover_crop_resample.tif')\n",
    "lc_class_raster = os.path.join(case_dir, 'landcover_class.tif')\n",
    "\n",
    "sx_raster = os.path.join(case_dir, 'step7_merge_raw_Sx/sx.tif')\n",
    "sw_raster = os.path.join(case_dir, 'step9_merge_raw_Sw/sw.tif')\n",
    "sw_daily_dir = os.path.join(case_dir, 'step8_raw_Sw')\n",
    "sw_basename = 'sw_DOY' # e.g., sw_DOY100.tif\n",
    "first_day = 75   # March 15 (temperature >0)\n",
    "last_day = 167   # June 15 (snowpack disappears)\n",
    "\n",
    "sub_shp_prj = os.path.join(case_dir, 'subbasin_prj.shp')\n",
    "sub_shp_prj_buf = os.path.join(case_dir, 'subbasin_prj_buf.shp')\n",
    "sub_raster = os.path.join(case_dir, 'subbasin.tif')\n",
    "sub_corr_txt=os.path.join(case_dir, 'subNo_HUC12_corr.txt') #correspondence between HUC12 and subbasin number.\n",
    " \n",
    "hru_raster = os.path.join(case_dir, 'hru.tif')\n",
    "hru_vector = os.path.join(case_dir, 'hru.shp')\n",
    "\n",
    "hru_attrb_elev = os.path.join(case_dir, 'hru_attrb_elevation.tif') # attribute raster of HRU\n",
    "hru_attrb_lc = os.path.join(case_dir, 'hru_attrb_landcover.tif')\n",
    "hru_attrb_slp = os.path.join(case_dir, 'hru_attrb_slope.tif')\n",
    "hru_attrb_asp = os.path.join(case_dir, 'hru_attrb_aspect.tif')\n",
    "hru_attrb_sw_mean = os.path.join(case_dir, 'hru_attrb_sw_mean.tif')\n",
    "hru_attrb_sw_basename = os.path.join(case_dir, 'hru_attrb_sw_DOY') # e.g., hru_attrb_sw_DOY100.tif\n",
    "\n",
    "error_file = os.path.join(case_dir, 'Diagnostics.txt')\n",
    "hist_ofile = os.path.join(case_dir, 'plot/Sw_histgram.png')\n",
    "cdf_ofile = os.path.join(case_dir, 'plot/Sw_cdf.png')\n",
    "\n",
    "# -- define GRU and HRU field names and data types --\n",
    "subNo_field = 'GRUNo'\n",
    "attrb_field_type = 'int32'\n",
    "subName_field = 'GRUId'\n",
    "\n",
    "hruNo_field = 'HRUNo'\n",
    "hruNo_field_type = 'int32'\n",
    "hruName_field = 'HRUId'\n",
    "\n",
    "# --- define common projection, nodata value, reference raster----\n",
    "proj4=\"+proj=aea +lat_1=20 +lat_2=60 +lat_0=40 +lon_0=-96 +x_0=0 +y_0=0 +ellps=GRS80 +datum=NAD83 +units=m no_defs\"\n",
    "dst_crs = rio.crs.CRS.from_string(proj4)\n",
    "## Albers Equal Area Conic Projection. \n",
    "## reference 1: https://gisgeography.com/conic-projection-lambert-albers-polyconic/\n",
    "## reference 2: https://epsg.io/102008\n",
    "nodatavalue = -9999  \n",
    "refraster = dem_crop # reference raster to rasterize vector and resample\n",
    "\n",
    "print('Done')"
   ]
  },
  {
   "cell_type": "markdown",
   "metadata": {},
   "source": [
    "### 0. Project large rasters (once for all) ###"
   ]
  },
  {
   "cell_type": "code",
   "execution_count": 10,
   "metadata": {},
   "outputs": [
    {
     "name": "stdout",
     "output_type": "stream",
     "text": [
      "PART 1. reproject dem and landcover rasters\n",
      "Done\n"
     ]
    }
   ],
   "source": [
    "# # --- PART 1. reproject dem and landcover rasters --- \n",
    "# print('PART 1. reproject dem and landcover rasters')\n",
    "# gs.reproject_raster(dem_raster, dem_raster_prj, dst_crs) # re-project dem raster\n",
    "# gs.reproject_raster(lc_raster, lc_raster_prj, dst_crs)   # re-project land cover raster\n",
    "\n",
    "# print('Done')"
   ]
  },
  {
   "cell_type": "markdown",
   "metadata": {},
   "source": [
    "### 1. Project rasters and vectors, crop rasters ###"
   ]
  },
  {
   "cell_type": "code",
   "execution_count": 3,
   "metadata": {},
   "outputs": [
    {
     "name": "stdout",
     "output_type": "stream",
     "text": [
      "PART 1. reproject case basin vector\n",
      "PART 2. crop dem, slope and aspect rasters\n",
      "PART 3. crop landcover raster\n",
      "PART 4. rasterize subbasin vector\n",
      "Done\n"
     ]
    }
   ],
   "source": [
    "# --- PART 1. reproject rasters and basin vector --- \n",
    "print('PART 1. reproject case basin vector')\n",
    "gs.reproject_vector(sub_shp, sub_shp_prj, dst_crs)       # re-project subbasin shapefile\n",
    "\n",
    "# --- PART 2. crop dem raster ---\n",
    "print('PART 2. crop dem, slope and aspect rasters')\n",
    "# (1) crop based on original basin extent\n",
    "gs.crop_raster(dem_raster_prj,sub_shp_prj,dem_crop,nodatavalue)\n",
    "\n",
    "# (2-1) crop DEM based on buffered basin extent \n",
    "gs.buffer_vector(sub_shp_prj, sub_shp_prj_buf, buf_dist)\n",
    "gs.crop_raster(dem_raster_prj,sub_shp_prj_buf,dem_crop_buf,nodatavalue)\n",
    "\n",
    "# (2-2) calculate slope and aspect based on cropped bufferred DEM\n",
    "gs.calculate_slope_aspect(dem_crop_buf,slp_crop_buf,asp_crop_buf)\n",
    "\n",
    "# (2-3) crop slope and aspect based on basin extent\n",
    "gs.crop_raster(slp_crop_buf,sub_shp_prj,slp_crop,nodatavalue)\n",
    "gs.crop_raster(asp_crop_buf,sub_shp_prj,asp_crop,nodatavalue)\n",
    "\n",
    "# (2-4) convert aspect from 360 to 180\n",
    "gs.convert_aspect_180(asp_crop, asp_crop_180)\n",
    "\n",
    "# --- PART 3. crop landcover raster ---\n",
    "print('PART 3. crop landcover raster')\n",
    "# (1) crop based on basin\n",
    "gs.crop_raster(lc_raster_prj,sub_shp_prj,lc_crop,255) # 255 is nodatavalue for landcover raster\n",
    "\n",
    "# (2) resample landcover to the reference raster resolution\n",
    "gs.resample_raster(lc_crop,refraster,lc_crop_resample) \n",
    "\n",
    "# --- PART 4. rasterize subbasin vector ---\n",
    "print('PART 4. rasterize subbasin vector')\n",
    "infield = 'HUC12'\n",
    "infield_rename = subName_field\n",
    "gs.rasterize_subbasin_vector(sub_shp_prj,infield,infield_rename,subNo_field,attrb_field_type,\n",
    "                             refraster,sub_raster,sub_corr_txt,nodatavalue)\n",
    "\n",
    "print('Done')"
   ]
  },
  {
   "cell_type": "markdown",
   "metadata": {},
   "source": [
    "### 2. Classify elevation and landcover ### "
   ]
  },
  {
   "cell_type": "code",
   "execution_count": 4,
   "metadata": {},
   "outputs": [
    {
     "name": "stdout",
     "output_type": "stream",
     "text": [
      "PART 1. classify elevation raster\n"
     ]
    },
    {
     "name": "stderr",
     "output_type": "stream",
     "text": [
      "/glade/u/home/hongli/tools/miniconda3/envs/conda_hongli/lib/python3.8/site-packages/numpy/core/fromnumeric.py:3334: RuntimeWarning: Mean of empty slice.\n",
      "  return _methods._mean(a, axis=axis, dtype=dtype,\n",
      "/glade/u/home/hongli/tools/miniconda3/envs/conda_hongli/lib/python3.8/site-packages/numpy/core/_methods.py:161: RuntimeWarning: invalid value encountered in true_divide\n",
      "  ret = ret.dtype.type(ret / rcount)\n"
     ]
    },
    {
     "name": "stdout",
     "output_type": "stream",
     "text": [
      "PART 2. relassify landcover raster\n",
      "Done\n"
     ]
    }
   ],
   "source": [
    "# --- PART 1. relassify elevation raster within each subbasin ---\n",
    "print('PART 1. classify elevation raster')\n",
    "bins = [2000, 2250,2500,2750,3000,3250,3500,3750] # including the rightmost edge\n",
    "gs.classify_elevation(dem_crop, sub_raster, bins, dem_class_raster, dem_value_raster, nodatavalue)\n",
    "\n",
    "# # --- PART 2. relassify landcover raster ---\n",
    "print('PART 2. relassify landcover raster')\n",
    "# Note: here we make only two classes: crop vs. non-crop\n",
    "# Crop class includes: 0 Evergreen needleleaf forests, 1 Evergreen broadleaf forests, \n",
    "# 2 Deciduous needleleaf forests, 3 Deciduous broadleaf forests, 4 Mixed forests, 7 Woody savannas.  \n",
    "gs.classify_landcover(lc_crop_resample, lc_class_raster, nodatavalue)\n",
    "  \n",
    "print('Done')"
   ]
  },
  {
   "cell_type": "markdown",
   "metadata": {},
   "source": [
    "### 3. Classify slope and aspect ### "
   ]
  },
  {
   "cell_type": "code",
   "execution_count": 5,
   "metadata": {},
   "outputs": [
    {
     "name": "stdout",
     "output_type": "stream",
     "text": [
      "PART 1. classify slope raster\n",
      "PART 2. classify aspect raster\n",
      "Done\n"
     ]
    }
   ],
   "source": [
    "# --- PART 1. relassify slope raster ---\n",
    "print('PART 1. classify slope raster')\n",
    "slp_classes = 6\n",
    "bins = [0,10,20,30,40,50,60] # including the rightmost edge\n",
    "gs.classify_elevation(slp_crop, sub_raster, bins, slp_class_raster, slp_value_raster, nodatavalue)\n",
    "\n",
    "# --- PART 2. relassify aspect raster ---\n",
    "print('PART 2. classify aspect raster')\n",
    "asp_classes = 7\n",
    "bins = [-1,0,30,60,90,120,150,181] # including the rightmost edge\n",
    "gs.classify_elevation(asp_crop_180, sub_raster, bins, asp_class_raster, asp_value_raster, nodatavalue)\n",
    "\n",
    "print('Done')"
   ]
  },
  {
   "cell_type": "markdown",
   "metadata": {},
   "source": [
    "### 4. Generate HRU and calculate zonal statistics ###"
   ]
  },
  {
   "cell_type": "code",
   "execution_count": 3,
   "metadata": {},
   "outputs": [
    {
     "name": "stdout",
     "output_type": "stream",
     "text": [
      "PART 3. zonal statistics \n",
      "elevation\n",
      "landcover\n",
      "slope\n",
      "aspect\n",
      "Done\n"
     ]
    }
   ],
   "source": [
    "# --- PART 1. genearte HRU based on subbasin, elevation class, and landcover class (crop, noncrop) ---\n",
    "print('PART 1. genearte HRU')\n",
    "raster_list = [sub_raster, dem_class_raster, lc_class_raster, slp_class_raster, asp_class_raster]\n",
    "raster_fieldname_list = [subNo_field, 'elevClass', 'lcClass', 'slpClass', 'aspClass']\n",
    "\n",
    "gs.define_hru(raster_list, raster_fieldname_list, sub_raster, sub_corr_txt, subNo_field, subName_field,\n",
    "              nodatavalue, hru_raster, hru_vector, hruNo_field, hruNo_field_type, hruName_field)\n",
    "gs.plot_vector(hru_vector, hruName_field) # plot for check\n",
    "\n",
    "# --- PART 2. zonal area ---\n",
    "print('PART 2. zonal area')\n",
    "in_gpd = gpd.read_file(hru_vector)\n",
    "in_gpd['areaSqm'] = in_gpd.area\n",
    "in_gpd.to_file(hru_vector)\n",
    "\n",
    "# --- PART 3. zonal statistics ---\n",
    "print('PART 3. zonal statistics ')\n",
    "# (1) elevation zonal statistics  based on original dem raster\n",
    "print('elevation')\n",
    "gs.zonal_statistic(dem_crop, hru_vector, hruNo_field, hruNo_field_type, refraster, 'mean', hru_attrb_elev,\n",
    "                   nodatavalue, output_column_prefix='elev')\n",
    "\n",
    "# (2) landcover zonal statistics based on original landcover raster\n",
    "print('landcover')\n",
    "gs.zonal_statistic(lc_crop_resample, hru_vector, hruNo_field, hruNo_field_type, refraster, 'mode', hru_attrb_lc,\n",
    "                   nodatavalue, output_column_prefix='lc') \n",
    "\n",
    "# further, convert landcover int to string\n",
    "invector = hru_vector\n",
    "in_gpd = gpd.read_file(invector)\n",
    "lcClass_list = [ 0,   1,   2,   3,   4,   5,   6,   7,   8,   9,  10,  11,  12, 13,  14,  15,  16, 255]\n",
    "lcValue_list = ['Evergreen needleleaf forests', 'Evergreen broadleaf forests', 'Deciduous needleleaf forests',\n",
    "                'Deciduous broadleaf forests', 'Mixed forests', 'Closed shrublands', 'Open shrublands', \n",
    "                'Woody savannas', 'Savannas', 'Grasslands', 'Permanent wetlands', 'Croplands', \n",
    "                'Urban and built-up lands', 'Cropland/natural vegetation mosaics', 'Snow and ice', \n",
    "                'Barren', 'Water bodies', 'None']\n",
    "for irow, row in in_gpd.iterrows():\n",
    "    lcClass = in_gpd.loc[irow,'lc'] \n",
    "    lcValue=lcValue_list[lcClass_list.index(int(lcClass))]\n",
    "    in_gpd.at[irow,'lc'] = lcValue\n",
    "in_gpd.to_file(invector)\n",
    "\n",
    "# (3) slope zonal statistics \n",
    "print('slope')\n",
    "gs.zonal_statistic(slp_crop, hru_vector, hruNo_field, hruNo_field_type, refraster, 'mean', hru_attrb_slp,\n",
    "                   nodatavalue, output_column_prefix='slp')\n",
    "\n",
    "# (4) aspect zonal statistics \n",
    "print('aspect')\n",
    "gs.zonal_statistic(asp_crop, hru_vector, hruNo_field, hruNo_field_type, refraster, 'mean', hru_attrb_asp,\n",
    "                   nodatavalue, output_column_prefix='asp')\n",
    "\n",
    "print('Done')"
   ]
  },
  {
   "cell_type": "markdown",
   "metadata": {},
   "source": [
    "### 5. Calculate HRU solar radiation ###"
   ]
  },
  {
   "cell_type": "code",
   "execution_count": 3,
   "metadata": {},
   "outputs": [
    {
     "name": "stdout",
     "output_type": "stream",
     "text": [
      "PART 4. Sw zonal statistics \n",
      "mean Sw\n",
      "Done\n"
     ]
    }
   ],
   "source": [
    "# --- PART 4. Sw zonal statistics ---\n",
    "print('PART 4. Sw zonal statistics ')\n",
    "print('mean Sw')\n",
    "gs.zonal_statistic(sw_raster, hru_vector, hruNo_field, hruNo_field_type, refraster, 'mean', hru_attrb_sw_mean,\n",
    "                   nodatavalue, output_column_prefix='sw')\n",
    "\n",
    "# print('daily Sw')\n",
    "# for doy in range(first_day, last_day+1):\n",
    "#     sw_DOY = os.path.join(sw_daily_dir, sw_basename+str(doy)+'.tif')\n",
    "#     hru_attrb_sw_DOY = hru_attrb_sw_basename+str(doy)+'.tif'\n",
    "#     gs.zonal_statistic(sw_DOY, hru_vector, hruNo_field, hruNo_field_type, refraster, 'mean', hru_attrb_sw_DOY,\n",
    "#                        nodatavalue, output_column_prefix='sw')\n",
    "\n",
    "print('Done')    "
   ]
  },
  {
   "cell_type": "markdown",
   "metadata": {},
   "source": [
    "### 6. Calculate errors ###"
   ]
  },
  {
   "cell_type": "code",
   "execution_count": 4,
   "metadata": {},
   "outputs": [
    {
     "name": "stdout",
     "output_type": "stream",
     "text": [
      "Done\n"
     ]
    }
   ],
   "source": [
    "# This script is used to calcualte the CDF difference for shortwave radiation (Sw) and maximum upwind slope (Sx)\n",
    "\n",
    "def read_raster(raster_file, var_name, area_name):\n",
    "    with rio.open(raster_file) as ff:\n",
    "        data_value  = ff.read(1)\n",
    "        data_mask = ff.read_masks(1)\n",
    "        gt = ff.transform\n",
    "\n",
    "    dx = gt[0]\n",
    "    dy = -gt[4]\n",
    "    pixelArea = dx*dy\n",
    "\n",
    "    (unique, counts) = np.unique(data_value[data_mask!=0], return_counts=True)\n",
    "    frequencies = np.asarray((unique, counts)).T\n",
    "    frequencies[:,1]=frequencies[:,1]*pixelArea\n",
    "\n",
    "    df = pd.DataFrame(frequencies, columns = [var_name, area_name]) \n",
    "    return df \n",
    "\n",
    "def get_cdf_error(raw_df, dis_df, var_column, area_column):\n",
    "\n",
    "    # get raw grid cell and hru numbers\n",
    "    raw_num = len(raw_df)\n",
    "    hru_num = len(dis_df)\n",
    "\n",
    "    # sort dataframe based on interested variable values\n",
    "    raw_df_sort = raw_df.sort_values(by=[var_column])\n",
    "    dis_df_sort = dis_df.sort_values(by=[var_column])\n",
    "    \n",
    "    # create evenly spaced variable values \n",
    "    line_var_num = 200\n",
    "    line_var = np.reshape(np.linspace(0.9*np.minimum(np.amin(raw_df_sort[var_column].values), np.amin(dis_df_sort[var_column].values)),\n",
    "                    1.1*np.maximum(np.amax(raw_df_sort[var_column].values), np.amax(dis_df_sort[var_column].values)),\n",
    "                    num=line_var_num),[line_var_num,1])\n",
    "    \n",
    "    # calculate variable cdf in raw_cdf\n",
    "    line_var_rep = np.repeat(line_var, raw_num, axis=1) # shape [line_var_num, raw_num]\n",
    "    raw_var_rep = np.repeat(np.reshape(raw_df_sort[var_column].values, [1, raw_num]), line_var_num, axis=0) \n",
    "    raw_area_rep =  np.repeat(np.reshape(raw_df_sort[area_column].values, [1, raw_num]), line_var_num, axis=0)\n",
    "    \n",
    "    condition_area = np.where(line_var_rep>raw_var_rep, raw_area_rep, 0.0)\n",
    "    condition_area_cumsum = np.sum(condition_area, axis=1)\n",
    "    total_area = np.sum(raw_area_rep, axis=1)\n",
    "    line_var_cdf_in_raw = np.divide(condition_area_cumsum,total_area)\n",
    "    del line_var_rep, raw_var_rep, raw_area_rep, condition_area, condition_area_cumsum, total_area\n",
    "    \n",
    "    # calculate variable in hru_cdf\n",
    "    line_var_rep = np.repeat(line_var, hru_num, axis=1) # shape [line_var_num, hru_num]\n",
    "    dis_var_rep = np.repeat(np.reshape(dis_df_sort[var_column].values, [1, hru_num]), line_var_num, axis=0) \n",
    "    hru_area_rep =  np.repeat(np.reshape(dis_df_sort[area_column].values, [1, hru_num]), line_var_num, axis=0)\n",
    "    \n",
    "    condition_area = np.where(line_var_rep>dis_var_rep, hru_area_rep, 0.0) # Area array with elements from hru_area_rep where condition is True, and 0 elsewhere.\n",
    "    condition_area_cumsum = np.sum(condition_area, axis=1)\n",
    "    total_area = np.sum(hru_area_rep, axis=1)\n",
    "    line_var_cdf_in_hru = np.divide(condition_area_cumsum,total_area)\n",
    "    del line_var_rep, dis_var_rep, hru_area_rep, condition_area, condition_area_cumsum, total_area\n",
    "    \n",
    "    # calucalte CDF difference\n",
    "    cdf_dif = np.abs(line_var_cdf_in_raw-line_var_cdf_in_hru)\n",
    "    line_var = np.reshape(line_var, np.shape(cdf_dif))\n",
    "    var_error = np.trapz(cdf_dif, x=line_var)\n",
    "\n",
    "    # relative error (normalized Wasserstein distance)     \n",
    "    var_base = np.trapz(line_var_cdf_in_raw, x=line_var)    \n",
    "    var_error_relative = var_error/var_base\n",
    "    \n",
    "    #  Kolmogorov–Smirnov statistic\n",
    "    cdf_dif_max = max(cdf_dif)\n",
    "    return var_error_relative, cdf_dif_max\n",
    "\n",
    "sw_var = 'Sw'\n",
    "sx_var = 'Sx'\n",
    "area_var = 'area_m'\n",
    "\n",
    "# read sw\n",
    "raw_df_sw = read_raster(sw_raster, sw_var, area_var)\n",
    "dis_df_sw = read_raster(hru_attrb_sw_mean, sw_var, area_var)\n",
    "\n",
    "# calculate cdf error\n",
    "sw_error, sw_cdf_dif_max = get_cdf_error(raw_df_sw, dis_df_sw, sw_var, area_var)\n",
    "\n",
    "# output Diagnostics\n",
    "f = open(error_file, 'w')\n",
    "f.write('HRU_number, Sw_error, SW_cdf_dif_max\\n')\n",
    "f.write('%d, ' % len(dis_df_sw))\n",
    "f.write('%.6f, ' % sw_error)\n",
    "f.write('%.6f, ' % sw_cdf_dif_max)\n",
    "f.close()\n",
    "\n",
    "print('Done')"
   ]
  },
  {
   "cell_type": "markdown",
   "metadata": {},
   "source": [
    "### 7. Plot CDF difference ###"
   ]
  },
  {
   "cell_type": "code",
   "execution_count": 5,
   "metadata": {},
   "outputs": [
    {
     "data": {
      "image/png": "[encoded data removed]",
      "text/plain": [
       "<Figure size 648x486 with 1 Axes>"
      ]
     },
     "metadata": {
      "needs_background": "light"
     },
     "output_type": "display_data"
    },
    {
     "data": {
      "image/png": "[encoded data removed]",
      "text/plain": [
       "<Figure size 648x486 with 1 Axes>"
      ]
     },
     "metadata": {
      "needs_background": "light"
     },
     "output_type": "display_data"
    }
   ],
   "source": [
    "# Choose how many bins you want here\n",
    "num_bins = 100\n",
    "\n",
    "# raw sw and its area-based cdf\n",
    "with rio.open(sw_raster) as ff:\n",
    "    sw  = ff.read(1)\n",
    "    sw_mask = ff.read_masks(1)\n",
    "origin_counts, origin_bin_edges = np.histogram(sw[sw_mask!=0], bins=num_bins)\n",
    "\n",
    "cum_counts = np.cumsum(origin_counts)\n",
    "total_count = cum_counts[-1]\n",
    "origin_cdf = cum_counts/float(total_count)\n",
    "\n",
    "# discretized sw and its area-based cdf\n",
    "with rio.open(hru_attrb_sw_mean) as ff:\n",
    "    dis_sw  = ff.read(1)\n",
    "    dis_sw_mask = ff.read_masks(1)\n",
    "dis_counts, dis_bin_edges = np.histogram(dis_sw[dis_sw_mask!=0], bins=num_bins)\n",
    "\n",
    "cum_counts = np.cumsum(dis_counts)\n",
    "total_count = cum_counts[-1]\n",
    "dis_cdf = cum_counts/float(total_count)\n",
    "\n",
    "# Plot comparatives histogram\n",
    "fig, ax = plt.subplots(figsize=(9, 9*0.75))\n",
    "ax.hist(sw[sw_mask!=0], bins=num_bins, alpha=0.6, label='Original')\n",
    "ax.hist(dis_sw[dis_sw_mask!=0], bins=num_bins, alpha=0.6, label='Discretized')\n",
    "plt.legend(loc='best')\n",
    "plt.show()\n",
    "ax.set_xlabel('Radiation [W$^2$/m]')\n",
    "ax.set_ylabel('Frequency')\n",
    "ax.legend(loc='best', framealpha=0.6, facecolor=None)\n",
    "fig.savefig(hist_ofile,dpi=150)    \n",
    "\n",
    "# Plot comparatives cdf\n",
    "fig, ax = plt.subplots(figsize=(9, 9*0.75))\n",
    "ax.plot(origin_bin_edges[1:], origin_cdf, '-k', label='Original')\n",
    "ax.plot(dis_bin_edges[1:], origin_cdf, '--r', label='Discretized')\n",
    "plt.legend(loc='best')\n",
    "plt.show()\n",
    "ax.set_xlabel('Radiation [W$^2$/m]')\n",
    "ax.set_ylabel('CDF')\n",
    "ax.legend(loc='best', framealpha=0.6, facecolor=None)\n",
    "fig.savefig(cdf_ofile,dpi=150)    \n"
   ]
  },
  {
   "cell_type": "code",
   "execution_count": 6,
   "metadata": {},
   "outputs": [
    {
     "data": {
      "text/plain": [
       "array([-9999.        ,   147.20574777,   151.61996177, ...,\n",
       "         365.61877018,   365.79636026,   365.81513894])"
      ]
     },
     "execution_count": 6,
     "metadata": {},
     "output_type": "execute_result"
    }
   ],
   "source": [
    "with rio.open(hru_attrb_sw_mean) as ff:\n",
    "    data = ff.read(1)\n",
    "    mask = ff.read_masks(1)\n",
    "np.unique(data)"
   ]
  },
  {
   "cell_type": "code",
   "execution_count": 60,
   "metadata": {},
   "outputs": [
    {
     "data": {
      "text/plain": [
       "array([-9999,    -1,     2,     5,     8,    11,    13,    14,    15,\n",
       "          16,    17,    18,    19,    20,    21,    22,    23,    24,\n",
       "          25,    29,    31,    33,    35,    36,    37,    38,    39,\n",
       "          40,    41,    42,    43,    44,    45,    46,    47,    48,\n",
       "          49,    50,    51,    52,    53,    54,    55,    56,    57,\n",
       "          58,    59,    60,    61,    62,    63,    64,    65,    66,\n",
       "          67,    68,    69,    70,    71,    72,    73,    74,    75,\n",
       "          76,    77,    78,    79,    80,    81,    82,    83,    84,\n",
       "          85,    86,    87,    88,    89,    90,    91,    92,    93,\n",
       "          94,    95,    96,    97,    98,    99,   100,   101,   102,\n",
       "         103,   104,   105,   106,   107,   108,   109,   110,   111,\n",
       "         112,   113,   114,   115,   116,   117,   118,   119,   120,\n",
       "         121,   122,   123,   124,   125,   126,   127,   128,   129,\n",
       "         130,   131,   132,   133,   134,   135,   136,   137,   138,\n",
       "         139,   140,   141,   142,   143,   144,   145,   146,   147,\n",
       "         148,   149,   150,   151,   152,   153,   154,   155,   156,\n",
       "         157,   158,   159,   160,   161,   162,   163,   164,   165,\n",
       "         166,   167,   168,   169,   170,   171,   172,   173,   174,\n",
       "         175,   176,   177,   178,   179,   180,   181,   182,   183,\n",
       "         184,   185,   186,   187,   188,   189,   190,   191,   192,\n",
       "         193,   194,   195,   196,   197,   198,   199,   200,   201,\n",
       "         202,   203,   204,   205,   206,   207,   208,   209,   210,\n",
       "         211,   212,   213,   214,   215,   216,   217,   218,   219,\n",
       "         220,   221,   222,   223,   224,   225,   226,   227,   228,\n",
       "         229,   230,   231,   232,   233,   234,   235,   236,   237,\n",
       "         238,   239,   240,   241,   242,   243,   244,   245,   246,\n",
       "         247,   248,   249,   250,   251,   252,   253,   254,   255,\n",
       "         256,   257,   258,   259,   260,   261,   262,   263,   264,\n",
       "         265,   266,   267,   268,   269,   270,   271,   272,   273,\n",
       "         274,   275,   276,   277,   278,   279,   280,   281,   282,\n",
       "         283,   284,   285,   286,   287,   288,   289,   290,   291,\n",
       "         292,   293,   294,   295,   296,   297,   298,   300,   301,\n",
       "         302,   303,   304,   306,   307,   308,   309,   310,   311,\n",
       "         312,   313,   314,   315,   316,   317,   318,   319,   320,\n",
       "         321,   322,   323,   324,   325,   326,   327,   328,   329,\n",
       "         330,   332,   333,   334,   335,   336,   337,   338,   339,\n",
       "         340,   341,   342,   344,   346,   347,   348,   349,   350,\n",
       "         351,   352,   353,   355,   356,   358], dtype=int32)"
      ]
     },
     "execution_count": 60,
     "metadata": {},
     "output_type": "execute_result"
    }
   ],
   "source": []
  },
  {
   "cell_type": "code",
   "execution_count": null,
   "metadata": {},
   "outputs": [],
   "source": []
  }
 ],
 "metadata": {
  "kernelspec": {
   "display_name": "conda_hongli",
   "language": "python",
   "name": "conda_hongli"
  },
  "language_info": {
   "codemirror_mode": {
    "name": "ipython",
    "version": 3
   },
   "file_extension": ".py",
   "mimetype": "text/x-python",
   "name": "python",
   "nbconvert_exporter": "python",
   "pygments_lexer": "ipython3",
   "version": "3.8.3"
  }
 },
 "nbformat": 4,
 "nbformat_minor": 4
}
