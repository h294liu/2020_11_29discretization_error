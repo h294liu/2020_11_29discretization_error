{
 "cells": [
  {
   "cell_type": "markdown",
   "metadata": {},
   "source": [
    "### 0. Import libraries ###"
   ]
  },
  {
   "cell_type": "code",
   "execution_count": 1,
   "metadata": {},
   "outputs": [
    {
     "name": "stdout",
     "output_type": "stream",
     "text": [
      "Done\n"
     ]
    }
   ],
   "source": [
    "#!/usr/bin/env python3\n",
    "# -*- coding: utf-8 -*-\n",
    "\"\"\"\n",
    "Created on Fri Oct 16 09:35:11 2020\n",
    "@author: hongli\n",
    "\"\"\"\n",
    "import os\n",
    "import numpy as np\n",
    "import rasterio as rio\n",
    "import geopandas as gpd\n",
    "import pandas as pd\n",
    "import matplotlib.pyplot as plt \n",
    "import geospatial_functions.geospatial as gs\n",
    "\n",
    "print('Done')"
   ]
  },
  {
   "cell_type": "markdown",
   "metadata": {},
   "source": [
    "### 0. Specify file paths ###"
   ]
  },
  {
   "cell_type": "code",
   "execution_count": 2,
   "metadata": {},
   "outputs": [
    {
     "name": "stdout",
     "output_type": "stream",
     "text": [
      "Done\n"
     ]
    }
   ],
   "source": [
    "# main script\n",
    "case = 'yampa'\n",
    "\n",
    "# --- common source file paths ---\n",
    "root_dir = '/glade/u/home/hongli/scratch/2020_11_29discretization_error'\n",
    "\n",
    "dem_raster = os.path.join(root_dir, 'source_data/MERIT_Hydro_dem_NLDAS.tif')\n",
    "dem_raster_prj = os.path.join(root_dir, 'source_data/MERIT_Hydro_dem_NLDAS_prj.tif')\n",
    "\n",
    "lc_raster = os.path.join(root_dir, 'source_data/nldas_landcover.tif') \n",
    "lc_raster_prj = os.path.join(root_dir, 'source_data/nldas_landcover_prj.tif')\n",
    "\n",
    "# --- case study depedent file paths ----\n",
    "case_dir = os.path.join(root_dir, case)\n",
    "sub_shp = os.path.join(case_dir, 'huc12.shp')\n",
    "if not os.path.exists(case_dir):\n",
    "    os.makedirs(case_dir)\n",
    "\n",
    "buf_dist = 600 # meter\n",
    "    \n",
    "dem_crop = os.path.join(case_dir, 'dem_crop.tif')\n",
    "dem_crop_buf = os.path.join(case_dir, 'dem_crop_buf.tif')\n",
    "dem_class_raster = os.path.join(case_dir, 'dem_class.tif')\n",
    "dem_value_raster = os.path.join(case_dir, 'dem_value.tif')\n",
    "\n",
    "slp_crop_buf = os.path.join(case_dir, 'slope_crop_buf.tif')\n",
    "slp_crop = os.path.join(case_dir, 'slope_crop.tif')\n",
    "slp_class_raster = os.path.join(case_dir, 'slope_class.tif')\n",
    "slp_value_raster = os.path.join(case_dir, 'slope_value.tif')\n",
    "\n",
    "asp_crop_buf = os.path.join(case_dir, 'aspect_crop_buf.tif')\n",
    "asp_crop = os.path.join(case_dir, 'aspect_crop.tif')\n",
    "asp_crop_180 = os.path.join(case_dir, 'aspect_crop_180.tif')\n",
    "asp_class_raster = os.path.join(case_dir, 'aspect_class.tif')\n",
    "asp_value_raster = os.path.join(case_dir, 'aspect_value.tif')\n",
    "\n",
    "lc_crop = os.path.join(case_dir, 'landcover_crop.tif')\n",
    "lc_crop_resample = os.path.join(case_dir, 'landcover_crop_resample.tif')\n",
    "lc_class_raster = os.path.join(case_dir, 'landcover_class.tif')\n",
    "\n",
    "sx_raster = os.path.join(case_dir, 'step7_merge_raw_Sx/sx.tif')\n",
    "sw_raster = os.path.join(case_dir, 'step9_merge_raw_Sw/sw.tif')\n",
    "sw_daily_dir = os.path.join(case_dir, 'step8_raw_Sw')\n",
    "sw_basename = 'sw_DOY' # e.g., sw_DOY100.tif\n",
    "first_day = 75   # March 15 (temperature >0)\n",
    "last_day = 167   # June 15 (snowpack disappears)\n",
    "\n",
    "sub_shp_prj = os.path.join(case_dir, 'subbasin_prj.shp')\n",
    "sub_shp_prj_buf = os.path.join(case_dir, 'subbasin_prj_buf.shp')\n",
    "sub_raster = os.path.join(case_dir, 'subbasin.tif')\n",
    "sub_corr_txt=os.path.join(case_dir, 'subNo_HUC12_corr.txt') #correspondence between HUC12 and subbasin number.\n",
    " \n",
    "hru_raster = os.path.join(case_dir, 'hru.tif')\n",
    "hru_vector = os.path.join(case_dir, 'hru.shp')\n",
    "hru_raster_diss = os.path.join(case_dir, 'hru_diss.tif')\n",
    "hru_vector_diss = os.path.join(case_dir, 'hru_diss.shp')\n",
    "\n",
    "hru_raster_diss_domimant = os.path.join(case_dir, 'hru_diss_domimant.tif')\n",
    "hru_vector_diss_domimant = os.path.join(case_dir, 'hru_diss_domimant.shp')\n",
    "hru_raster_diss_neighbor = os.path.join(case_dir, 'hru_diss_neighbor.tif')\n",
    "hru_vector_diss_neighbor = os.path.join(case_dir, 'hru_diss_neighbor.shp')\n",
    "\n",
    "hru_attrb_elev = os.path.join(case_dir, 'hru_attrb_elevation.tif') # attribute raster of HRU\n",
    "hru_attrb_lc = os.path.join(case_dir, 'hru_attrb_landcover.tif')\n",
    "hru_attrb_slp = os.path.join(case_dir, 'hru_attrb_slope.tif')\n",
    "hru_attrb_asp = os.path.join(case_dir, 'hru_attrb_aspect.tif')\n",
    "hru_attrb_sw_mean = os.path.join(case_dir, 'hru_attrb_sw_mean.tif')\n",
    "hru_attrb_sw_basename = os.path.join(case_dir, 'hru_attrb_sw_DOY') # e.g., hru_attrb_sw_DOY100.tif\n",
    "\n",
    "error_file = os.path.join(case_dir, 'Diagnostics.txt')\n",
    "hist_ofile = os.path.join(case_dir, 'plot/Sw_histgram.png')\n",
    "cdf_ofile = os.path.join(case_dir, 'plot/Sw_cdf.png')\n",
    "\n",
    "# -- define GRU and HRU field names and data types --\n",
    "subNo_field = 'GRUNo'\n",
    "subNo_field_type = 'int32'\n",
    "subName_field = 'GRUId'\n",
    "\n",
    "hruNo_field = 'HRUNo'\n",
    "hruNo_field_type = 'int32'\n",
    "hruName_field = 'HRUId'\n",
    "\n",
    "area_field = 'areaSqm'\n",
    "\n",
    "# --- define common projection, nodata value, reference raster----\n",
    "proj4=\"+proj=aea +lat_1=20 +lat_2=60 +lat_0=40 +lon_0=-96 +x_0=0 +y_0=0 +ellps=GRS80 +datum=NAD83 +units=m no_defs\"\n",
    "dst_crs = rio.crs.CRS.from_string(proj4)\n",
    "## Albers Equal Area Conic Projection. \n",
    "## reference 1: https://gisgeography.com/conic-projection-lambert-albers-polyconic/\n",
    "## reference 2: https://epsg.io/102008\n",
    "nodatavalue = -9999  \n",
    "refraster = dem_crop # reference raster to rasterize vector and resample\n",
    "\n",
    "# HRU elimination threshold\n",
    "hru_area_thld = 10**6 #1km2\n",
    "print('Done')"
   ]
  },
  {
   "cell_type": "markdown",
   "metadata": {},
   "source": [
    "### 0. Project large rasters (once for all) ###"
   ]
  },
  {
   "cell_type": "code",
   "execution_count": 10,
   "metadata": {},
   "outputs": [
    {
     "name": "stdout",
     "output_type": "stream",
     "text": [
      "PART 1. reproject dem and landcover rasters\n",
      "Done\n"
     ]
    }
   ],
   "source": [
    "# # --- PART 1. reproject dem and landcover rasters --- \n",
    "# print('PART 1. reproject dem and landcover rasters')\n",
    "# gs.reproject_raster(dem_raster, dem_raster_prj, dst_crs) # re-project dem raster\n",
    "# gs.reproject_raster(lc_raster, lc_raster_prj, dst_crs)   # re-project land cover raster\n",
    "\n",
    "# print('Done')"
   ]
  },
  {
   "cell_type": "markdown",
   "metadata": {},
   "source": [
    "### 1. Project rasters and vectors, crop rasters ###"
   ]
  },
  {
   "cell_type": "code",
   "execution_count": 3,
   "metadata": {},
   "outputs": [
    {
     "name": "stdout",
     "output_type": "stream",
     "text": [
      "PART 1. reproject case basin vector\n",
      "PART 2. crop dem, slope and aspect rasters\n",
      "PART 3. crop landcover raster\n",
      "PART 4. rasterize subbasin vector\n",
      "Done\n"
     ]
    }
   ],
   "source": [
    "# --- PART 1. reproject rasters and basin vector --- \n",
    "print('PART 1. reproject case basin vector')\n",
    "gs.reproject_vector(sub_shp, sub_shp_prj, dst_crs)       # re-project subbasin shapefile\n",
    "\n",
    "# --- PART 2. crop dem raster ---\n",
    "print('PART 2. crop dem, slope and aspect rasters')\n",
    "# (1) crop based on original basin extent\n",
    "gs.crop_raster(dem_raster_prj,sub_shp_prj,dem_crop,nodatavalue)\n",
    "\n",
    "# (2-1) crop DEM based on buffered basin extent \n",
    "gs.buffer_vector(sub_shp_prj, sub_shp_prj_buf, buf_dist)\n",
    "gs.crop_raster(dem_raster_prj,sub_shp_prj_buf,dem_crop_buf,nodatavalue)\n",
    "\n",
    "# (2-2) calculate slope and aspect based on cropped bufferred DEM\n",
    "gs.calculate_slope_aspect(dem_crop_buf,slp_crop_buf,asp_crop_buf)\n",
    "\n",
    "# (2-3) crop slope and aspect based on basin extent\n",
    "gs.crop_raster(slp_crop_buf,sub_shp_prj,slp_crop,nodatavalue)\n",
    "gs.crop_raster(asp_crop_buf,sub_shp_prj,asp_crop,nodatavalue)\n",
    "\n",
    "# (2-4) convert aspect from 360 to 180\n",
    "gs.convert_aspect_180(asp_crop, asp_crop_180)\n",
    "\n",
    "# --- PART 3. crop landcover raster ---\n",
    "print('PART 3. crop landcover raster')\n",
    "# (1) crop based on basin\n",
    "gs.crop_raster(lc_raster_prj,sub_shp_prj,lc_crop,255) # 255 is nodatavalue for landcover raster\n",
    "\n",
    "# (2) resample landcover to the reference raster resolution\n",
    "gs.resample_raster(lc_crop,refraster,lc_crop_resample) \n",
    "\n",
    "# --- PART 4. rasterize subbasin vector ---\n",
    "print('PART 4. rasterize subbasin vector')\n",
    "infield = 'HUC12'\n",
    "infield_rename = subName_field\n",
    "gs.rasterize_subbasin_vector(sub_shp_prj,infield,infield_rename,subNo_field,subNo_field_type,\n",
    "                             refraster,sub_raster,sub_corr_txt,nodatavalue)\n",
    "\n",
    "print('Done')"
   ]
  },
  {
   "cell_type": "markdown",
   "metadata": {},
   "source": [
    "### 2. Classify elevation and landcover ### "
   ]
  },
  {
   "cell_type": "code",
   "execution_count": 4,
   "metadata": {},
   "outputs": [
    {
     "name": "stdout",
     "output_type": "stream",
     "text": [
      "PART 1. classify elevation raster\n",
      "Done\n"
     ]
    }
   ],
   "source": [
    "# --- PART 1. relassify elevation raster within each subbasin ---\n",
    "print('PART 1. classify elevation raster')\n",
    "bins = [2000,2250,2500,2750,3000,3250,3500,3750] # including the rightmost edge\n",
    "# bins = [2000,2500,3000,3500,4000] # including the rightmost edge\n",
    "bins.sort()\n",
    "gs.classify_elevation(dem_crop, sub_raster, bins, dem_class_raster, dem_value_raster, nodatavalue)\n",
    "\n",
    "# # # --- PART 2. relassify landcover raster ---\n",
    "# print('PART 2. relassify landcover raster')\n",
    "# # Note: here we make only two classes: crop vs. non-crop\n",
    "# # Crop class includes: 0 Evergreen needleleaf forests, 1 Evergreen broadleaf forests, \n",
    "# # 2 Deciduous needleleaf forests, 3 Deciduous broadleaf forests, 4 Mixed forests, 7 Woody savannas.  \n",
    "# gs.classify_landcover(lc_crop_resample, lc_class_raster, nodatavalue)\n",
    "  \n",
    "print('Done')"
   ]
  },
  {
   "cell_type": "markdown",
   "metadata": {},
   "source": [
    "### 3. Classify slope and aspect and gnerate HRU ### "
   ]
  },
  {
   "cell_type": "code",
   "execution_count": 6,
   "metadata": {},
   "outputs": [
    {
     "name": "stdout",
     "output_type": "stream",
     "text": [
      "PART 1. classify slope raster\n",
      "PART 2. classify aspect raster\n",
      "PART 3. genearte HRU\n"
     ]
    },
    {
     "data": {
      "image/png": "[encoded data removed]",
      "text/plain": [
       "<Figure size 720x432 with 1 Axes>"
      ]
     },
     "metadata": {
      "needs_background": "light"
     },
     "output_type": "display_data"
    },
    {
     "name": "stdout",
     "output_type": "stream",
     "text": [
      "Done\n"
     ]
    }
   ],
   "source": [
    "# --- PART 1. relassify slope raster ---\n",
    "print('PART 1. classify slope raster')\n",
    "bins = [0,30,90] # including the rightmost edge\n",
    "bins.sort()\n",
    "slp_classes = len(bins)-1\n",
    "gs.classify_elevation(slp_crop, sub_raster, bins, slp_class_raster, slp_value_raster, nodatavalue)\n",
    "\n",
    "# --- PART 2. relassify aspect raster ---\n",
    "print('PART 2. classify aspect raster')\n",
    "bins = [-1,0,60,120,181] # including the rightmost edge\n",
    "bins.sort()\n",
    "slp_classes = len(bins)-1\n",
    "gs.classify_elevation(asp_crop_180, sub_raster, bins, asp_class_raster, asp_value_raster, nodatavalue)\n",
    "\n",
    "# --- PART 3. genearte HRU based on subbasin, elevation class, and landcover class (crop, noncrop) ---\n",
    "print('PART 3. genearte HRU')\n",
    "raster_list = [sub_raster, dem_class_raster, lc_class_raster, slp_class_raster, asp_class_raster]\n",
    "raster_fieldname_list = [subNo_field, 'elevClass', 'lcClass', 'slpClass', 'aspClass']\n",
    "\n",
    "gs.define_hru(raster_list, raster_fieldname_list, sub_raster, sub_corr_txt, subNo_field, subName_field,\n",
    "              nodatavalue, hru_raster, hru_vector, hruNo_field, hruNo_field_type, hruName_field)\n",
    "gs.plot_vector(hru_vector, hruName_field) # plot for check\n",
    "\n",
    "# --- PART 4. zonal area ---\n",
    "print('PART 4. zonal area')\n",
    "in_gpd = gpd.read_file(hru_vector)\n",
    "in_gpd[area_field] = in_gpd.area\n",
    "in_gpd.to_file(hru_vector)\n",
    "print('Done')"
   ]
  },
  {
   "cell_type": "markdown",
   "metadata": {},
   "source": [
    "### 4. Eliminate small HRUs (<1 sq.km) ###"
   ]
  },
  {
   "cell_type": "code",
   "execution_count": 6,
   "metadata": {},
   "outputs": [
    {
     "name": "stderr",
     "output_type": "stream",
     "text": [
      "100%|██████████| 20/20 [01:15<00:00,  3.77s/it]\n"
     ]
    },
    {
     "name": "stdout",
     "output_type": "stream",
     "text": [
      "Done\n"
     ]
    }
   ],
   "source": [
    "# # method 1. replace small HRU attibutes with the most dominant HRU's\n",
    "# raster_fieldname_list = [subNo_field, 'elevClass', 'lcClass', 'slpClass', 'aspClass']\n",
    "# gs.eliminate_small_hrus_dominant(hru_vector, hru_area_thld, subNo_field, subName_field, hruNo_field, hruNo_field_type,\n",
    "#                                  hruName_field, area_field, raster_fieldname_list, refraster, hru_vector_diss, hru_raster_diss,nodatavalue)\n",
    "# # gs.eliminate_small_hrus_dominant(hru_vector, hru_area_thld, subNo_field, subName_field, hruNo_field, hruNo_field_type, hruName_field, area_field,\n",
    "# #                                  raster_fieldname_list, refraster, hru_vector_diss_domimant, hru_raster_diss_domimant,nodatavalue)\n",
    "\n",
    "# method 2: change HRU attribute to its' largest neighbor's HRU\n",
    "raster_fieldname_list = [subNo_field, 'elevClass', 'lcClass', 'slpClass', 'aspClass']\n",
    "gs.eliminate_small_hrus_neighbor(hru_vector, hru_area_thld, subNo_field, subName_field, hruNo_field, hruNo_field_type, \n",
    "                                 hruName_field, area_field, raster_fieldname_list, refraster, hru_vector_diss, hru_raster_diss,nodatavalue)\n",
    "# gs.eliminate_small_hrus_neighbor(hru_vector, hru_area_thld, subNo_field, subName_field, hruNo_field, hruNo_field_type, \n",
    "#                                  hruName_field, area_field, raster_fieldname_list, refraster, hru_vector_diss_neighbor, hru_raster_diss_neighbor,nodatavalue)\n",
    "\n",
    "print('Done')"
   ]
  },
  {
   "cell_type": "markdown",
   "metadata": {},
   "source": [
    "### 4. Calculate zonal statistics ###"
   ]
  },
  {
   "cell_type": "code",
   "execution_count": 4,
   "metadata": {},
   "outputs": [
    {
     "name": "stdout",
     "output_type": "stream",
     "text": [
      "elevation\n",
      "float32\n",
      "--Before--\n",
      "float32\n",
      "--After--\n",
      "float32\n",
      "landcover\n",
      "uint8\n",
      "--Before--\n",
      "int16\n",
      "--After--\n",
      "uint8\n",
      "slope\n",
      "float32\n",
      "--Before--\n",
      "float32\n",
      "--After--\n",
      "float32\n",
      "aspect\n",
      "float32\n",
      "--Before--\n",
      "float32\n",
      "--After--\n",
      "float32\n",
      "Done\n"
     ]
    }
   ],
   "source": [
    "# (1) elevation zonal statistics \n",
    "print('elevation')\n",
    "gs.zonal_statistic(dem_crop, hru_vector_diss, hruNo_field, hruNo_field_type, refraster, 'mean', hru_attrb_elev,\n",
    "                   nodatavalue, output_column_prefix='elev')\n",
    "\n",
    "# (2) landcover zonal statistics \n",
    "print('landcover')\n",
    "gs.zonal_statistic(lc_crop_resample, hru_vector_diss, hruNo_field, hruNo_field_type, refraster, 'mode', hru_attrb_lc,\n",
    "                   nodatavalue, output_column_prefix='lc') \n",
    "\n",
    "# further, convert landcover int to string\n",
    "invector = hru_vector_diss\n",
    "in_gpd = gpd.read_file(invector)\n",
    "lcClass_list = [ 0,   1,   2,   3,   4,   5,   6,   7,   8,   9,  10,  11,  12, 13,  14,  15,  16, 255]\n",
    "lcValue_list = ['Evergreen needleleaf forests', 'Evergreen broadleaf forests', 'Deciduous needleleaf forests',\n",
    "                'Deciduous broadleaf forests', 'Mixed forests', 'Closed shrublands', 'Open shrublands', \n",
    "                'Woody savannas', 'Savannas', 'Grasslands', 'Permanent wetlands', 'Croplands', \n",
    "                'Urban and built-up lands', 'Cropland/natural vegetation mosaics', 'Snow and ice', \n",
    "                'Barren', 'Water bodies', 'None']\n",
    "for irow, row in in_gpd.iterrows():\n",
    "    lcClass = in_gpd.loc[irow,'lc'] \n",
    "    lcValue=lcValue_list[lcClass_list.index(int(lcClass))]\n",
    "    in_gpd.at[irow,'lc'] = lcValue\n",
    "in_gpd.to_file(invector)\n",
    "\n",
    "# (3) slope zonal statistics \n",
    "print('slope')\n",
    "gs.zonal_statistic(slp_crop, hru_vector_diss, hruNo_field, hruNo_field_type, refraster, 'mean', hru_attrb_slp,\n",
    "                   nodatavalue, output_column_prefix='slp')\n",
    "\n",
    "# (4) aspect zonal statistics \n",
    "print('aspect')\n",
    "gs.zonal_statistic(asp_crop, hru_vector_diss, hruNo_field, hruNo_field_type, refraster, 'mean', hru_attrb_asp,\n",
    "                   nodatavalue, output_column_prefix='asp')\n",
    "\n",
    "print('Done')"
   ]
  },
  {
   "cell_type": "markdown",
   "metadata": {},
   "source": [
    "### 5. Calculate zonal statistics - solar radiation ###"
   ]
  },
  {
   "cell_type": "code",
   "execution_count": 5,
   "metadata": {},
   "outputs": [
    {
     "name": "stdout",
     "output_type": "stream",
     "text": [
      "PART 4. Sw zonal statistics \n",
      "mean Sw\n",
      "float64\n",
      "--Before--\n",
      "float64\n",
      "--After--\n",
      "float64\n",
      "Done\n"
     ]
    }
   ],
   "source": [
    "# --- PART 4. Sw zonal statistics ---\n",
    "print('PART 4. Sw zonal statistics ')\n",
    "print('mean Sw')\n",
    "gs.zonal_statistic(sw_raster, hru_vector_diss, hruNo_field, hruNo_field_type, refraster, 'mean', hru_attrb_sw_mean,\n",
    "                   nodatavalue, output_column_prefix='sw')\n",
    "\n",
    "# print('daily Sw')\n",
    "# for doy in range(first_day, last_day+1):\n",
    "#     sw_DOY = os.path.join(sw_daily_dir, sw_basename+str(doy)+'.tif')\n",
    "#     hru_attrb_sw_DOY = hru_attrb_sw_basename+str(doy)+'.tif'\n",
    "#     gs.zonal_statistic(sw_DOY, hru_vector_diss, hruNo_field, hruNo_field_type, refraster, 'mean', hru_attrb_sw_DOY,\n",
    "#                        nodatavalue, output_column_prefix='sw')\n",
    "\n",
    "print('Done')    "
   ]
  },
  {
   "cell_type": "markdown",
   "metadata": {},
   "source": [
    "### 6. Calculate errors ###"
   ]
  },
  {
   "cell_type": "code",
   "execution_count": 6,
   "metadata": {},
   "outputs": [
    {
     "name": "stdout",
     "output_type": "stream",
     "text": [
      "20 0.13275212172327344 0.2764031138309886\n",
      "Done\n"
     ]
    }
   ],
   "source": [
    "# This script is used to calcualte the CDF difference for shortwave radiation (Sw) and maximum upwind slope (Sx)\n",
    "\n",
    "def read_raster(raster_file, var_name, area_name):\n",
    "    with rio.open(raster_file) as ff:\n",
    "        data_value  = ff.read(1)\n",
    "        data_mask = ff.read_masks(1)\n",
    "        gt = ff.transform\n",
    "\n",
    "    dx = gt[0]\n",
    "    dy = -gt[4]\n",
    "    pixelArea = dx*dy\n",
    "\n",
    "    (unique, counts) = np.unique(data_value[data_mask!=0], return_counts=True)\n",
    "    frequencies = np.asarray((unique, counts)).T\n",
    "    frequencies[:,1]=frequencies[:,1]*pixelArea\n",
    "\n",
    "    df = pd.DataFrame(frequencies, columns = [var_name, area_name]) \n",
    "    return df \n",
    "\n",
    "def get_cdf_error(raw_df, dis_df, var_column, area_column):\n",
    "\n",
    "    # get raw grid cell and hru numbers\n",
    "    raw_num = len(raw_df)\n",
    "    hru_num = len(dis_df)\n",
    "\n",
    "    # sort dataframe based on interested variable values\n",
    "    raw_df_sort = raw_df.sort_values(by=[var_column])\n",
    "    dis_df_sort = dis_df.sort_values(by=[var_column])\n",
    "    \n",
    "    # create evenly spaced variable values \n",
    "    line_var_num = 200\n",
    "    line_var = np.reshape(np.linspace(0.9*np.minimum(np.amin(raw_df_sort[var_column].values), np.amin(dis_df_sort[var_column].values)),\n",
    "                    1.1*np.maximum(np.amax(raw_df_sort[var_column].values), np.amax(dis_df_sort[var_column].values)),\n",
    "                    num=line_var_num),[line_var_num,1])\n",
    "    \n",
    "    # calculate variable cdf in raw_cdf\n",
    "    line_var_rep = np.repeat(line_var, raw_num, axis=1) # shape [line_var_num, raw_num]\n",
    "    raw_var_rep = np.repeat(np.reshape(raw_df_sort[var_column].values, [1, raw_num]), line_var_num, axis=0) \n",
    "    raw_area_rep =  np.repeat(np.reshape(raw_df_sort[area_column].values, [1, raw_num]), line_var_num, axis=0)\n",
    "    \n",
    "    condition_area = np.where(line_var_rep>raw_var_rep, raw_area_rep, 0.0)\n",
    "    condition_area_cumsum = np.sum(condition_area, axis=1)\n",
    "    total_area = np.sum(raw_area_rep, axis=1)\n",
    "    line_var_cdf_in_raw = np.divide(condition_area_cumsum,total_area)\n",
    "    del line_var_rep, raw_var_rep, raw_area_rep, condition_area, condition_area_cumsum, total_area\n",
    "    \n",
    "    # calculate variable in hru_cdf\n",
    "    line_var_rep = np.repeat(line_var, hru_num, axis=1) # shape [line_var_num, hru_num]\n",
    "    dis_var_rep = np.repeat(np.reshape(dis_df_sort[var_column].values, [1, hru_num]), line_var_num, axis=0) \n",
    "    hru_area_rep =  np.repeat(np.reshape(dis_df_sort[area_column].values, [1, hru_num]), line_var_num, axis=0)\n",
    "    \n",
    "    condition_area = np.where(line_var_rep>dis_var_rep, hru_area_rep, 0.0) # Area array with elements from hru_area_rep where condition is True, and 0 elsewhere.\n",
    "    condition_area_cumsum = np.sum(condition_area, axis=1)\n",
    "    total_area = np.sum(hru_area_rep, axis=1)\n",
    "    line_var_cdf_in_hru = np.divide(condition_area_cumsum,total_area)\n",
    "    del line_var_rep, dis_var_rep, hru_area_rep, condition_area, condition_area_cumsum, total_area\n",
    "    \n",
    "    # calucalte CDF difference\n",
    "    cdf_dif = np.abs(line_var_cdf_in_raw-line_var_cdf_in_hru)\n",
    "    line_var = np.reshape(line_var, np.shape(cdf_dif))\n",
    "    var_error = np.trapz(cdf_dif, x=line_var)\n",
    "\n",
    "    # relative error (normalized Wasserstein distance)     \n",
    "    var_base = np.trapz(line_var_cdf_in_raw, x=line_var)    \n",
    "    var_error_relative = var_error/var_base\n",
    "    \n",
    "    #  Kolmogorov–Smirnov statistic\n",
    "    cdf_dif_max = max(cdf_dif)\n",
    "    return var_error_relative, cdf_dif_max\n",
    "\n",
    "sw_var = 'Sw'\n",
    "sx_var = 'Sx'\n",
    "area_var = 'area_m'\n",
    "\n",
    "# read sw\n",
    "raw_df_sw = read_raster(sw_raster, sw_var, area_var)\n",
    "dis_df_sw = read_raster(hru_attrb_sw_mean, sw_var, area_var)\n",
    "\n",
    "# calculate cdf error\n",
    "sw_error, sw_cdf_dif_max = get_cdf_error(raw_df_sw, dis_df_sw, sw_var, area_var)\n",
    "\n",
    "# output Diagnostics\n",
    "f = open(error_file, 'w')\n",
    "f.write('HRU_number, Sw_error, SW_cdf_dif_max\\n')\n",
    "f.write('%d, ' % len(dis_df_sw))\n",
    "f.write('%.6f, ' % sw_error)\n",
    "f.write('%.6f, ' % sw_cdf_dif_max)\n",
    "f.close()\n",
    "\n",
    "print(len(dis_df_sw), sw_error, sw_cdf_dif_max)\n",
    "print('Done')"
   ]
  },
  {
   "cell_type": "markdown",
   "metadata": {},
   "source": [
    "### 7. Plot CDF difference ###"
   ]
  },
  {
   "cell_type": "code",
   "execution_count": 7,
   "metadata": {},
   "outputs": [
    {
     "name": "stdout",
     "output_type": "stream",
     "text": [
      "float64\n"
     ]
    },
    {
     "data": {
      "image/png": "[encoded data removed]",
      "text/plain": [
       "<Figure size 648x486 with 1 Axes>"
      ]
     },
     "metadata": {
      "needs_background": "light"
     },
     "output_type": "display_data"
    },
    {
     "data": {
      "image/png": "[encoded data removed]",
      "text/plain": [
       "<Figure size 648x486 with 1 Axes>"
      ]
     },
     "metadata": {
      "needs_background": "light"
     },
     "output_type": "display_data"
    }
   ],
   "source": [
    "# Choose how many bins you want here\n",
    "num_bins = 100\n",
    "\n",
    "# raw sw and its area-based cdf\n",
    "with rio.open(sw_raster) as ff:\n",
    "    sw  = ff.read(1)\n",
    "    sw_mask = ff.read_masks(1)\n",
    "origin_counts, origin_bin_edges = np.histogram(sw[sw_mask!=0], bins=num_bins)\n",
    "\n",
    "cum_counts = np.cumsum(origin_counts)\n",
    "total_count = cum_counts[-1]\n",
    "origin_cdf = cum_counts/float(total_count)\n",
    "\n",
    "# discretized sw and its area-based cdf\n",
    "with rio.open(hru_attrb_sw_mean) as ff:\n",
    "    dis_sw  = ff.read(1)\n",
    "    dis_sw_mask = ff.read_masks(1)\n",
    "    meta = ff.meta\n",
    "dis_counts, dis_bin_edges = np.histogram(dis_sw[dis_sw_mask!=0], bins=num_bins)\n",
    "print(meta['dtype'])\n",
    "\n",
    "cum_counts = np.cumsum(dis_counts)\n",
    "total_count = cum_counts[-1]\n",
    "dis_cdf = cum_counts/float(total_count)\n",
    "\n",
    "# Plot comparatives histogram\n",
    "fig, ax = plt.subplots(figsize=(9, 9*0.75))\n",
    "ax.hist(sw[sw_mask!=0], bins=num_bins, alpha=0.6, label='Original')\n",
    "ax.hist(dis_sw[dis_sw_mask!=0], bins=num_bins, alpha=0.6, label='Discretized')\n",
    "plt.legend(loc='best')\n",
    "plt.show()\n",
    "ax.set_xlabel('Radiation [W$^2$/m]')\n",
    "ax.set_ylabel('Frequency')\n",
    "ax.legend(loc='best', framealpha=0.6, facecolor=None)\n",
    "fig.savefig(hist_ofile,dpi=150)    \n",
    "\n",
    "# Plot comparatives cdf\n",
    "fig, ax = plt.subplots(figsize=(9, 9*0.75))\n",
    "ax.plot(origin_bin_edges[1:], origin_cdf, '-k', label='Original')\n",
    "ax.plot(dis_bin_edges[1:], origin_cdf, '--r', label='Discretized')\n",
    "plt.legend(loc='best')\n",
    "plt.show()\n",
    "ax.set_xlabel('Radiation [W$^2$/m]')\n",
    "ax.set_ylabel('CDF')\n",
    "ax.legend(loc='best', framealpha=0.6, facecolor=None)\n",
    "fig.savefig(cdf_ofile,dpi=150)    \n"
   ]
  },
  {
   "cell_type": "code",
   "execution_count": 13,
   "metadata": {},
   "outputs": [
    {
     "data": {
      "text/plain": [
       "<matplotlib.image.AxesImage at 0x2ac53ee36190>"
      ]
     },
     "execution_count": 13,
     "metadata": {},
     "output_type": "execute_result"
    },
    {
     "data": {
      "image/png": "[encoded data removed]",
      "text/plain": [
       "<Figure size 432x288 with 1 Axes>"
      ]
     },
     "metadata": {
      "needs_background": "light"
     },
     "output_type": "display_data"
    }
   ],
   "source": [
    "plt.imshow(sw_mask!=dis_sw_mask)"
   ]
  },
  {
   "cell_type": "code",
   "execution_count": 11,
   "metadata": {},
   "outputs": [
    {
     "data": {
      "text/plain": [
       "<matplotlib.image.AxesImage at 0x2ac5400795e0>"
      ]
     },
     "execution_count": 11,
     "metadata": {},
     "output_type": "execute_result"
    },
    {
     "data": {
      "image/png": "[encoded data removed]",
      "text/plain": [
       "<Figure size 432x288 with 1 Axes>"
      ]
     },
     "metadata": {
      "needs_background": "light"
     },
     "output_type": "display_data"
    }
   ],
   "source": [
    "plt.imshow(dis_sw)"
   ]
  },
  {
   "cell_type": "code",
   "execution_count": 4,
   "metadata": {},
   "outputs": [
    {
     "data": {
      "text/html": [
       "<div>\n",
       "<style scoped>\n",
       "    .dataframe tbody tr th:only-of-type {\n",
       "        vertical-align: middle;\n",
       "    }\n",
       "\n",
       "    .dataframe tbody tr th {\n",
       "        vertical-align: top;\n",
       "    }\n",
       "\n",
       "    .dataframe thead th {\n",
       "        text-align: right;\n",
       "    }\n",
       "</style>\n",
       "<table border=\"1\" class=\"dataframe\">\n",
       "  <thead>\n",
       "    <tr style=\"text-align: right;\">\n",
       "      <th></th>\n",
       "      <th>HRUId</th>\n",
       "      <th>index</th>\n",
       "      <th>HRUNo</th>\n",
       "      <th>GRUNo</th>\n",
       "      <th>GRUId</th>\n",
       "      <th>elevClass</th>\n",
       "      <th>lcClass</th>\n",
       "      <th>slpClass</th>\n",
       "      <th>aspClass</th>\n",
       "      <th>sw</th>\n",
       "      <th>areaSqm</th>\n",
       "      <th>elev</th>\n",
       "      <th>lc</th>\n",
       "      <th>geometry</th>\n",
       "    </tr>\n",
       "  </thead>\n",
       "  <tbody>\n",
       "    <tr>\n",
       "      <th>0</th>\n",
       "      <td>14050001010101</td>\n",
       "      <td>1</td>\n",
       "      <td>1</td>\n",
       "      <td>01</td>\n",
       "      <td>140500010101</td>\n",
       "      <td>4</td>\n",
       "      <td>1</td>\n",
       "      <td>1</td>\n",
       "      <td>2</td>\n",
       "      <td>331.2185220189532</td>\n",
       "      <td>2.500585e+06</td>\n",
       "      <td>2302.602783203125</td>\n",
       "      <td>10</td>\n",
       "      <td>MULTIPOLYGON (((-892494.723 54163.613, -891987...</td>\n",
       "    </tr>\n",
       "    <tr>\n",
       "      <th>1</th>\n",
       "      <td>14050001010102</td>\n",
       "      <td>4</td>\n",
       "      <td>2</td>\n",
       "      <td>01</td>\n",
       "      <td>140500010101</td>\n",
       "      <td>4</td>\n",
       "      <td>2</td>\n",
       "      <td>1</td>\n",
       "      <td>1</td>\n",
       "      <td>343.448505382885</td>\n",
       "      <td>6.634956e+06</td>\n",
       "      <td>2342.0732421875</td>\n",
       "      <td>10</td>\n",
       "      <td>MULTIPOLYGON (((-894451.679 52569.056, -894379...</td>\n",
       "    </tr>\n",
       "    <tr>\n",
       "      <th>2</th>\n",
       "      <td>14050001010103</td>\n",
       "      <td>2</td>\n",
       "      <td>3</td>\n",
       "      <td>01</td>\n",
       "      <td>140500010101</td>\n",
       "      <td>4</td>\n",
       "      <td>1</td>\n",
       "      <td>1</td>\n",
       "      <td>3</td>\n",
       "      <td>342.1128135107608</td>\n",
       "      <td>6.430076e+06</td>\n",
       "      <td>2376.185791015625</td>\n",
       "      <td>10</td>\n",
       "      <td>MULTIPOLYGON (((-894306.720 52714.016, -894234...</td>\n",
       "    </tr>\n",
       "    <tr>\n",
       "      <th>3</th>\n",
       "      <td>14050001010104</td>\n",
       "      <td>13</td>\n",
       "      <td>4</td>\n",
       "      <td>01</td>\n",
       "      <td>140500010101</td>\n",
       "      <td>5</td>\n",
       "      <td>2</td>\n",
       "      <td>1</td>\n",
       "      <td>4</td>\n",
       "      <td>353.4035357103194</td>\n",
       "      <td>2.821038e+06</td>\n",
       "      <td>2555.192138671875</td>\n",
       "      <td>10</td>\n",
       "      <td>MULTIPOLYGON (((-894379.199 52424.096, -894306...</td>\n",
       "    </tr>\n",
       "    <tr>\n",
       "      <th>4</th>\n",
       "      <td>14050001010105</td>\n",
       "      <td>8</td>\n",
       "      <td>5</td>\n",
       "      <td>01</td>\n",
       "      <td>140500010101</td>\n",
       "      <td>5</td>\n",
       "      <td>1</td>\n",
       "      <td>1</td>\n",
       "      <td>2</td>\n",
       "      <td>328.2464528038282</td>\n",
       "      <td>1.209842e+07</td>\n",
       "      <td>2644.34521484375</td>\n",
       "      <td>10</td>\n",
       "      <td>MULTIPOLYGON (((-892132.324 53583.774, -892059...</td>\n",
       "    </tr>\n",
       "    <tr>\n",
       "      <th>...</th>\n",
       "      <td>...</td>\n",
       "      <td>...</td>\n",
       "      <td>...</td>\n",
       "      <td>...</td>\n",
       "      <td>...</td>\n",
       "      <td>...</td>\n",
       "      <td>...</td>\n",
       "      <td>...</td>\n",
       "      <td>...</td>\n",
       "      <td>...</td>\n",
       "      <td>...</td>\n",
       "      <td>...</td>\n",
       "      <td>...</td>\n",
       "      <td>...</td>\n",
       "    </tr>\n",
       "    <tr>\n",
       "      <th>270</th>\n",
       "      <td>14050001040906</td>\n",
       "      <td>702</td>\n",
       "      <td>6</td>\n",
       "      <td>20</td>\n",
       "      <td>140500010409</td>\n",
       "      <td>2</td>\n",
       "      <td>1</td>\n",
       "      <td>1</td>\n",
       "      <td>2</td>\n",
       "      <td>308.5514673077173</td>\n",
       "      <td>7.197062e+06</td>\n",
       "      <td>2659.124267578125</td>\n",
       "      <td>1</td>\n",
       "      <td>MULTIPOLYGON (((-863647.738 103087.519, -86357...</td>\n",
       "    </tr>\n",
       "    <tr>\n",
       "      <th>271</th>\n",
       "      <td>14050001040907</td>\n",
       "      <td>712</td>\n",
       "      <td>7</td>\n",
       "      <td>20</td>\n",
       "      <td>140500010409</td>\n",
       "      <td>3</td>\n",
       "      <td>2</td>\n",
       "      <td>1</td>\n",
       "      <td>3</td>\n",
       "      <td>335.1265339301338</td>\n",
       "      <td>1.250293e+06</td>\n",
       "      <td>2801.469482421875</td>\n",
       "      <td>10</td>\n",
       "      <td>MULTIPOLYGON (((-864010.138 104102.237, -86393...</td>\n",
       "    </tr>\n",
       "    <tr>\n",
       "      <th>272</th>\n",
       "      <td>14050001040908</td>\n",
       "      <td>713</td>\n",
       "      <td>8</td>\n",
       "      <td>20</td>\n",
       "      <td>140500010409</td>\n",
       "      <td>3</td>\n",
       "      <td>2</td>\n",
       "      <td>1</td>\n",
       "      <td>4</td>\n",
       "      <td>357.1250592175348</td>\n",
       "      <td>6.377543e+06</td>\n",
       "      <td>2727.47705078125</td>\n",
       "      <td>10</td>\n",
       "      <td>MULTIPOLYGON (((-857486.950 107726.230, -85741...</td>\n",
       "    </tr>\n",
       "    <tr>\n",
       "      <th>273</th>\n",
       "      <td>14050001040909</td>\n",
       "      <td>717</td>\n",
       "      <td>9</td>\n",
       "      <td>20</td>\n",
       "      <td>140500010409</td>\n",
       "      <td>4</td>\n",
       "      <td>2</td>\n",
       "      <td>1</td>\n",
       "      <td>2</td>\n",
       "      <td>335.324990092968</td>\n",
       "      <td>3.640558e+06</td>\n",
       "      <td>2767.974365234375</td>\n",
       "      <td>10</td>\n",
       "      <td>MULTIPOLYGON (((-856544.712 108451.029, -85647...</td>\n",
       "    </tr>\n",
       "    <tr>\n",
       "      <th>274</th>\n",
       "      <td>14050001040910</td>\n",
       "      <td>723</td>\n",
       "      <td>10</td>\n",
       "      <td>20</td>\n",
       "      <td>140500010409</td>\n",
       "      <td>5</td>\n",
       "      <td>2</td>\n",
       "      <td>1</td>\n",
       "      <td>4</td>\n",
       "      <td>355.7821929208173</td>\n",
       "      <td>1.124213e+06</td>\n",
       "      <td>2835.044921875</td>\n",
       "      <td>1</td>\n",
       "      <td>MULTIPOLYGON (((-855747.434 109175.827, -85567...</td>\n",
       "    </tr>\n",
       "  </tbody>\n",
       "</table>\n",
       "<p>275 rows × 14 columns</p>\n",
       "</div>"
      ],
      "text/plain": [
       "              HRUId  index  HRUNo GRUNo         GRUId elevClass lcClass  \\\n",
       "0    14050001010101      1      1    01  140500010101         4       1   \n",
       "1    14050001010102      4      2    01  140500010101         4       2   \n",
       "2    14050001010103      2      3    01  140500010101         4       1   \n",
       "3    14050001010104     13      4    01  140500010101         5       2   \n",
       "4    14050001010105      8      5    01  140500010101         5       1   \n",
       "..              ...    ...    ...   ...           ...       ...     ...   \n",
       "270  14050001040906    702      6    20  140500010409         2       1   \n",
       "271  14050001040907    712      7    20  140500010409         3       2   \n",
       "272  14050001040908    713      8    20  140500010409         3       2   \n",
       "273  14050001040909    717      9    20  140500010409         4       2   \n",
       "274  14050001040910    723     10    20  140500010409         5       2   \n",
       "\n",
       "    slpClass aspClass                 sw       areaSqm               elev  lc  \\\n",
       "0          1        2  331.2185220189532  2.500585e+06  2302.602783203125  10   \n",
       "1          1        1   343.448505382885  6.634956e+06    2342.0732421875  10   \n",
       "2          1        3  342.1128135107608  6.430076e+06  2376.185791015625  10   \n",
       "3          1        4  353.4035357103194  2.821038e+06  2555.192138671875  10   \n",
       "4          1        2  328.2464528038282  1.209842e+07   2644.34521484375  10   \n",
       "..       ...      ...                ...           ...                ...  ..   \n",
       "270        1        2  308.5514673077173  7.197062e+06  2659.124267578125   1   \n",
       "271        1        3  335.1265339301338  1.250293e+06  2801.469482421875  10   \n",
       "272        1        4  357.1250592175348  6.377543e+06   2727.47705078125  10   \n",
       "273        1        2   335.324990092968  3.640558e+06  2767.974365234375  10   \n",
       "274        1        4  355.7821929208173  1.124213e+06     2835.044921875   1   \n",
       "\n",
       "                                              geometry  \n",
       "0    MULTIPOLYGON (((-892494.723 54163.613, -891987...  \n",
       "1    MULTIPOLYGON (((-894451.679 52569.056, -894379...  \n",
       "2    MULTIPOLYGON (((-894306.720 52714.016, -894234...  \n",
       "3    MULTIPOLYGON (((-894379.199 52424.096, -894306...  \n",
       "4    MULTIPOLYGON (((-892132.324 53583.774, -892059...  \n",
       "..                                                 ...  \n",
       "270  MULTIPOLYGON (((-863647.738 103087.519, -86357...  \n",
       "271  MULTIPOLYGON (((-864010.138 104102.237, -86393...  \n",
       "272  MULTIPOLYGON (((-857486.950 107726.230, -85741...  \n",
       "273  MULTIPOLYGON (((-856544.712 108451.029, -85647...  \n",
       "274  MULTIPOLYGON (((-855747.434 109175.827, -85567...  \n",
       "\n",
       "[275 rows x 14 columns]"
      ]
     },
     "execution_count": 4,
     "metadata": {},
     "output_type": "execute_result"
    }
   ],
   "source": [
    "in_gpd = gpd.read_file(hru_vector_diss)\n",
    "in_gpd"
   ]
  },
  {
   "cell_type": "code",
   "execution_count": null,
   "metadata": {},
   "outputs": [],
   "source": []
  }
 ],
 "metadata": {
  "kernelspec": {
   "display_name": "conda_hongli",
   "language": "python",
   "name": "conda_hongli"
  },
  "language_info": {
   "codemirror_mode": {
    "name": "ipython",
    "version": 3
   },
   "file_extension": ".py",
   "mimetype": "text/x-python",
   "name": "python",
   "nbconvert_exporter": "python",
   "pygments_lexer": "ipython3",
   "version": "3.8.3"
  }
 },
 "nbformat": 4,
 "nbformat_minor": 4
}
