{
 "cells": [
  {
   "cell_type": "code",
   "execution_count": 7,
   "metadata": {},
   "outputs": [
    {
     "name": "stdout",
     "output_type": "stream",
     "text": [
      "read DEM data\n",
      "read Sx results\n",
      "save Sx raster\n",
      "Done\n"
     ]
    }
   ],
   "source": [
    "from osgeo import gdal\n",
    "import os, shutil\n",
    "import numpy as np\n",
    "gdal.UseExceptions()\n",
    "import rasterio as rio\n",
    "\n",
    "def array_to_raster(tpl_file,dst_file,array,nodata):\n",
    "    # reference: https://gis.stackexchange.com/questions/164853/reading-modifying-and-writing-a-geotiff-with-gdal-in-python\n",
    "    ds = gdal.Open(tpl_file)\n",
    "    band = ds.GetRasterBand(1)\n",
    "    arr = band.ReadAsArray()\n",
    "    [cols, rows] = arr.shape\n",
    "\n",
    "    driver = gdal.GetDriverByName(\"GTiff\")\n",
    "    outdata = driver.Create(dst_file, rows, cols, 1, gdal.GDT_Float32) #gdal.GDT_UInt16\n",
    "    outdata.SetGeoTransform(ds.GetGeoTransform()) #set same geotransform as input\n",
    "    outdata.SetProjection(ds.GetProjection()) #set the same projection as input\n",
    "    outdata.GetRasterBand(1).WriteArray(array)\n",
    "    outdata.GetRasterBand(1).SetNoDataValue(nodata) #if you want these values transparent\n",
    "    outdata.FlushCache() #saves to disk\n",
    "    return outdata.GetRasterBand(1) \n",
    "\n",
    "# This script is to merge mulctiple Sx calculation results and generate raster\n",
    "case = 'yampa'\n",
    "root_dir = '/glade/u/home/hongli/scratch/2020_11_29discretization_error/discretize'\n",
    "case_dir = os.path.join(root_dir, case)\n",
    "refraster = os.path.join(case_dir, 'dem_crop.tif')\n",
    "\n",
    "row_interval=70 \n",
    "col_interval=70\n",
    "dem_nodata=-9999\n",
    "Sx_nodata=-9999\n",
    "\n",
    "# =======================input and output (1) =============================\n",
    "dem_raster=os.path.join(case_dir, 'dem_crop.tif')\n",
    "sx_result_dir=os.path.join(case_dir, 'step5_raw_Sx')\n",
    "opath=os.path.join(case_dir, 'step7_merge_raw_Sx')\n",
    "if not os.path.exists(opath):\n",
    "    os.makedirs(opath)\n",
    "ofile = 'sx.tif'  \n",
    "\n",
    "#====================================================\n",
    "# read raw raster [ELEVATION]\n",
    "print('read DEM data')\n",
    "r = gdal.Open(dem_raster)\n",
    "band = r.GetRasterBand(1) #bands start at one\n",
    "elev = band.ReadAsArray().astype(np.float)\n",
    "mask = (elev==dem_nodata)\n",
    "(ny,nx)=np.shape(elev)\n",
    "\n",
    "#====================================================\n",
    "# calcualte the number of row and col jobs\n",
    "if ny%row_interval==0:\n",
    "    row_job_num=ny//row_interval\n",
    "else:\n",
    "    row_job_num=ny//row_interval+1\n",
    "if nx%col_interval==0:\n",
    "    col_job_num=nx//col_interval\n",
    "else:\n",
    "    col_job_num=nx//col_interval+1        \n",
    "\n",
    "#=======================================================================================\n",
    "# read all Sx results            \n",
    "print('read Sx results')\n",
    "sx_arr = np.empty_like(elev)\n",
    "for i in range(row_job_num):\n",
    "    for j in range(col_job_num):\n",
    "        \n",
    "        row_start = i*row_interval\n",
    "        col_start = j*col_interval\n",
    "        if (ny%row_interval!=0) and (i==row_job_num-1):\n",
    "            row_end=row_start+ny%row_interval\n",
    "        else:\n",
    "            row_end = (i+1)*row_interval\n",
    "        if (nx%col_interval!=0) and (j==col_job_num-1):\n",
    "            col_end = col_start+nx%col_interval\n",
    "        else:\n",
    "            col_end = (j+1)*col_interval \n",
    "            \n",
    "        mask_subset = mask[row_start:row_end,col_start:col_end]\n",
    "        if not mask_subset.all()==True:        \n",
    "            ofile='Sx_Row'+str(row_start)+'_'+str(row_end)+'_Col'+str(col_start)+'_'+str(col_end)+'.txt'\n",
    "            sx_arr[row_start:row_end,col_start:col_end]=np.loadtxt(os.path.join(sx_result_dir,ofile),delimiter=',')\n",
    "        else:\n",
    "            sx_arr[row_start:row_end,col_start:col_end]=Sx_nodata\n",
    "\n",
    "#====================================================\n",
    "print('save Sx raster')\n",
    "# # method 1: GDAL save array\n",
    "# sx_arr[mask==True]=np.nan\n",
    "# array_to_raster(dem_raster,os.path.join(opath,ofile_raster),sx_arr,Sx_nodata)\n",
    "\n",
    "# method 2: rasterio save masked array\n",
    "with rio.open(refraster) as ff:\n",
    "    ref_mask = ff.read_masks(1)\n",
    "    out_meta = ff.meta.copy()\n",
    "out_meta.update(count=1, dtype='float64', compress='lzw', nodata=Sx_nodata)\n",
    "\n",
    "# save into rasters\n",
    "sx_arr[np.isnan(sx_arr)]=Sx_nodata\n",
    "sx_ma = np.ma.masked_array(sx_arr,out_meta==0)\n",
    "with rio.open(os.path.join(opath,ofile), 'w', **out_meta) as outf:\n",
    "    outf.write(sx_ma, 1)    \n",
    "\n",
    "print('Done')"
   ]
  },
  {
   "cell_type": "code",
   "execution_count": 14,
   "metadata": {},
   "outputs": [
    {
     "data": {
      "image/png": "[encoded data removed]",
      "text/plain": [
       "<Figure size 432x288 with 1 Axes>"
      ]
     },
     "metadata": {
      "needs_background": "light"
     },
     "output_type": "display_data"
    }
   ],
   "source": [
    "# Choose how many bins you want here\n",
    "num_bins = 100\n",
    "\n",
    "# raw sw and its area-based cdf\n",
    "with rio.open(os.path.join(opath,ofile)) as ff:\n",
    "    sx  = ff.read(1)\n",
    "    sx_mask = ff.read_masks(1)\n",
    "origin_counts, origin_bin_edges = np.histogram(sx[sx_mask!=0], bins=num_bins)\n",
    "\n",
    "cum_counts = np.cumsum(origin_counts)\n",
    "total_count = cum_counts[-1]\n",
    "origin_cdf = cum_counts/float(total_count)\n",
    "\n",
    "# Plot comparatives cdf\n",
    "fig, ax = plt.subplots()\n",
    "ax.plot(origin_bin_edges[1:], origin_cdf, '-k', label='Original')\n",
    "plt.legend(loc='best')\n",
    "plt.show()"
   ]
  },
  {
   "cell_type": "code",
   "execution_count": null,
   "metadata": {},
   "outputs": [],
   "source": []
  }
 ],
 "metadata": {
  "kernelspec": {
   "display_name": "conda_hongli",
   "language": "python",
   "name": "conda_hongli"
  },
  "language_info": {
   "codemirror_mode": {
    "name": "ipython",
    "version": 3
   },
   "file_extension": ".py",
   "mimetype": "text/x-python",
   "name": "python",
   "nbconvert_exporter": "python",
   "pygments_lexer": "ipython3",
   "version": "3.8.3"
  }
 },
 "nbformat": 4,
 "nbformat_minor": 4
}
