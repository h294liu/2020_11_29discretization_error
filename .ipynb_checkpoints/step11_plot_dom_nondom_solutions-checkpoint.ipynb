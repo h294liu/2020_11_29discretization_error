{
 "cells": [
  {
   "cell_type": "code",
   "execution_count": 1,
   "metadata": {},
   "outputs": [
    {
     "name": "stdout",
     "output_type": "stream",
     "text": [
      "yampa_optimize1\n"
     ]
    },
    {
     "data": {
      "image/png": "[encoded data removed]",
      "text/plain": [
       "<Figure size 576x432 with 1 Axes>"
      ]
     },
     "metadata": {
      "needs_background": "light"
     },
     "output_type": "display_data"
    },
    {
     "name": "stdout",
     "output_type": "stream",
     "text": [
      "Done\n"
     ]
    }
   ],
   "source": [
    "# quickly plot Sx CDF\n",
    "import numpy as np\n",
    "from pylab import *\n",
    "import matplotlib.pyplot as plt \n",
    "import os\n",
    "import pandas as pd\n",
    "from mpl_toolkits.mplot3d import Axes3D\n",
    "\n",
    "root_dir = '/glade/u/home/hongli/scratch/2020_11_29discretization_error'\n",
    "out_dir = os.path.join(root_dir,'plot','step11_plot_dom_nondom_obj')\n",
    "if not os.path.exists(out_dir):\n",
    "    os.makedirs(out_dir)\n",
    "\n",
    "optimize_scheme_basename = 'yampa_optimize' #'yampa_optimize', 'yampa_optimize_eliminate'\n",
    "scheme_num = 1 #3\n",
    "\n",
    "for i in range(scheme_num):\n",
    "# for i in range(1):\n",
    "    optimize_scheme = optimize_scheme_basename+str(i+1)\n",
    "    print(optimize_scheme)\n",
    "    \n",
    "    OstOutput = os.path.join(root_dir, optimize_scheme, 'OstOutput0.txt')\n",
    "    NonDomSolutions = os.path.join(root_dir, optimize_scheme, 'OstNonDomSolutions0.txt')\n",
    "    ofile = optimize_scheme+'.png'\n",
    "\n",
    "    # read dominated solutions\n",
    "    dom_slt = []\n",
    "    with open(OstOutput, 'r') as f:\n",
    "        for iline, line in enumerate(f):\n",
    "            line = line.strip()\n",
    "            if line:\n",
    "                splits = line.split()\n",
    "                if splits[0].isdigit():\n",
    "                    dom_slt.append(splits[1:1+2+6]) \n",
    "    dom_slt = np.asarray(dom_slt)\n",
    "    dom_slt = dom_slt.astype('float64')\n",
    "    \n",
    "    # read non-dominated solutions\n",
    "    nondom_slt = np.loadtxt(NonDomSolutions, skiprows=3)\n",
    "    nondom_slt = nondom_slt[:,1:1+2+6]\n",
    "    nhru_nondom = nondom_slt[:, 0]\n",
    "    sw_err_nondom = nondom_slt[:, 1]\n",
    "\n",
    "    # drop non-dominant solutions from dominant ones\n",
    "    for i in range(len(nondom_slt)):\n",
    "        loc=np.where((dom_slt == nondom_slt[i,:]).all(axis=1))[0]\n",
    "        if len(loc)>0:\n",
    "            dom_slt = np.delete(dom_slt, loc, axis=0)\n",
    "    nhru_dom = dom_slt[:,0]\n",
    "    sw_err_dom = dom_slt[:,1]\n",
    "\n",
    "    # Plot\n",
    "    fig, ax = plt.subplots(figsize=(8, 8*0.75))\n",
    "    ax.scatter(nhru_dom,sw_err_dom,marker='o',s=8,c='k',edgecolors='none',alpha=0.8,label='Dominant solutions')\n",
    "    ax.scatter(nhru_nondom,sw_err_nondom,marker='o',s=10,c='r',edgecolors='none',alpha=0.8,label='Non-dominant solutions')\n",
    "\n",
    "    ax.set_xlabel('Number of HRUs', fontsize='medium')\n",
    "    ax.set_ylabel('Sw relative error', fontsize='medium')\n",
    "    ax.set_title('Objective functions', fontsize='medium', fontweight='bold')\n",
    "    ax.legend(loc='best', fontsize='medium', framealpha=0.6, facecolor=None)\n",
    "\n",
    "    fig.tight_layout()\n",
    "    plt.show()\n",
    "    fig.savefig(os.path.join(out_dir, ofile), dpi=150)\n",
    "\n",
    "print('Done')"
   ]
  },
  {
   "cell_type": "code",
   "execution_count": 11,
   "metadata": {},
   "outputs": [
    {
     "name": "stdout",
     "output_type": "stream",
     "text": [
      "yampa_optimize3\n"
     ]
    }
   ],
   "source": [
    "scheme_num = 1 #3\n",
    "\n",
    "for i in range(scheme_num):\n",
    "    optimize_scheme = optimize_scheme_basename+str(i+1)\n",
    "    print(optimize_scheme)\n",
    "    \n",
    "    OstOutput = os.path.join(root_dir, optimize_scheme, 'OstOutput0.txt')\n",
    "    NonDomSolutions = os.path.join(root_dir, optimize_scheme, 'OstNonDomSolutions0.txt')\n",
    "    ofile = optimize_scheme+'.png'\n",
    "\n",
    "    # read dominated solutions\n",
    "    dom_slt = []\n",
    "    with open(OstOutput, 'r') as f:\n",
    "        for iline, line in enumerate(f):\n",
    "            line = line.strip()\n",
    "            if line:\n",
    "                splits = line.split()\n",
    "                if splits[0].isdigit():\n",
    "                    dom_slt.append(splits[1:1+2+6]) \n",
    "    dom_slt = np.asarray(dom_slt)\n",
    "    dom_slt = dom_slt.astype('float64')\n",
    "    \n",
    "    # read non-dominated solutions\n",
    "    nondom_slt = np.loadtxt(NonDomSolutions, skiprows=3)\n",
    "    nondom_slt = nondom_slt[:,1:1+2+6]\n",
    "    nhru_nondom = nondom_slt[:, 0]\n",
    "    sw_err_nondom = nondom_slt[:, 1]\n"
   ]
  },
  {
   "cell_type": "code",
   "execution_count": 12,
   "metadata": {},
   "outputs": [
    {
     "data": {
      "text/plain": [
       "array([1040., 1230., 1172., 1184., 1118., 1027., 1235., 1243., 1242.,\n",
       "       1253., 1255., 1265., 1257., 1248., 1273., 1278., 1286., 1304.,\n",
       "       1344., 1296., 1331., 1375., 1403., 1000.,  992., 1009., 1004.,\n",
       "        562.,  401.,  402.,  535.,  368.,  384.,  561.,  563.,  564.,\n",
       "        801.,  807.,  948.,  942.,  776.,  750.,  821.,  932.,  724.,\n",
       "        726.,  734.,  691., 1411., 1046.])"
      ]
     },
     "execution_count": 12,
     "metadata": {},
     "output_type": "execute_result"
    }
   ],
   "source": [
    "nhru_nondom"
   ]
  },
  {
   "cell_type": "code",
   "execution_count": 9,
   "metadata": {},
   "outputs": [
    {
     "data": {
      "text/plain": [
       "array([0.0186  , 0.019285, 0.018971, 0.018537, 0.01869 , 0.020385,\n",
       "       0.021388, 0.022216, 0.027308, 0.028418, 0.02643 , 0.034885,\n",
       "       0.037736, 0.040183, 0.042202, 0.042603, 0.042609, 0.039317,\n",
       "       0.03933 , 0.04117 , 0.036991, 0.042631, 0.041884, 0.039944,\n",
       "       0.039952, 0.038315, 0.04133 , 0.039113, 0.03912 , 0.0391  ,\n",
       "       0.041319, 0.041943, 0.040567, 0.036572, 0.037749, 0.040675,\n",
       "       0.040656, 0.04299 , 0.043572, 0.044241, 0.044183, 0.065724,\n",
       "       0.127281, 0.126621, 0.127286, 0.121068, 0.124698, 0.127193,\n",
       "       0.127191, 0.121214, 0.121205, 0.035656, 0.038805, 0.036003,\n",
       "       0.034822, 0.036009, 0.044328, 0.044332, 0.016403, 0.029902,\n",
       "       0.030332, 0.031809, 0.014937])"
      ]
     },
     "execution_count": 9,
     "metadata": {},
     "output_type": "execute_result"
    }
   ],
   "source": [
    "sw_err_nondom"
   ]
  },
  {
   "cell_type": "code",
   "execution_count": 13,
   "metadata": {},
   "outputs": [
    {
     "data": {
      "text/plain": [
       "array([[4.010000e+02, 7.829300e-02, 5.207940e+01, 5.207940e+01,\n",
       "        1.000000e-03, 1.215716e+02, 1.799740e+02, 1.799740e+02]])"
      ]
     },
     "execution_count": 13,
     "metadata": {},
     "output_type": "execute_result"
    }
   ],
   "source": [
    "nondom_slt[np.where(nhru_nondom==401)[0]]"
   ]
  },
  {
   "cell_type": "code",
   "execution_count": 66,
   "metadata": {},
   "outputs": [
    {
     "name": "stdout",
     "output_type": "stream",
     "text": [
      "[[3.481000e-02 1.341595e+01]\n",
      " [4.167600e-02 2.840736e+01]\n",
      " [3.481000e-02 1.341595e+01]\n",
      " ...\n",
      " [3.033200e-02 5.144105e+01]\n",
      " [3.180900e-02 5.144105e+01]\n",
      " [1.493700e-02 2.208212e+01]]\n"
     ]
    }
   ],
   "source": [
    "print(np.sort(dom_slt[:,1:3]))"
   ]
  },
  {
   "cell_type": "code",
   "execution_count": null,
   "metadata": {},
   "outputs": [],
   "source": []
  }
 ],
 "metadata": {
  "kernelspec": {
   "display_name": "conda_hongli",
   "language": "python",
   "name": "conda_hongli"
  },
  "language_info": {
   "codemirror_mode": {
    "name": "ipython",
    "version": 3
   },
   "file_extension": ".py",
   "mimetype": "text/x-python",
   "name": "python",
   "nbconvert_exporter": "python",
   "pygments_lexer": "ipython3",
   "version": "3.8.3"
  }
 },
 "nbformat": 4,
 "nbformat_minor": 4
}
