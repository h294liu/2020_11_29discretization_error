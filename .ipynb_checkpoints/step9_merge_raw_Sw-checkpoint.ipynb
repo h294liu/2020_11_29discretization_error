{
 "cells": [
  {
   "cell_type": "code",
   "execution_count": 1,
   "metadata": {},
   "outputs": [
    {
     "name": "stdout",
     "output_type": "stream",
     "text": [
      "Done\n"
     ]
    }
   ],
   "source": [
    "from osgeo import gdal\n",
    "import argparse, os\n",
    "import numpy as np\n",
    "from pyproj import Proj\n",
    "gdal.UseExceptions()\n",
    "import pandas as pd\n",
    "import rasterio as rio\n",
    "\n",
    "def array_to_raster(tpl_file,dst_file,array,nodata):\n",
    "    # reference: https://gis.stackexchange.com/questions/164853/reading-modifying-and-writing-a-geotiff-with-gdal-in-python\n",
    "    ds = gdal.Open(tpl_file)\n",
    "    band = ds.GetRasterBand(1)\n",
    "    arr = band.ReadAsArray()\n",
    "    [cols, rows] = arr.shape\n",
    "\n",
    "    driver = gdal.GetDriverByName(\"GTiff\")\n",
    "    outdata = driver.Create(dst_file, rows, cols, 1, gdal.GDT_Float32) #gdal.GDT_UInt16\n",
    "    outdata.SetGeoTransform(ds.GetGeoTransform()) #set same geotransform as input\n",
    "    outdata.SetProjection(ds.GetProjection()) #set the same projection as input\n",
    "    outdata.GetRasterBand(1).WriteArray(array)\n",
    "    outdata.GetRasterBand(1).SetNoDataValue(nodata) #if you want these values transparent\n",
    "    outdata.FlushCache() #saves to disk\n",
    "    return outdata.GetRasterBand(1) \n",
    "\n",
    "# main script\n",
    "case = 'yampa'\n",
    "root_dir = '/glade/u/home/hongli/scratch/2020_11_29discretization_error/discretize'\n",
    "case_dir = os.path.join(root_dir, case)\n",
    "refraster = os.path.join(case_dir, 'dem_crop.tif')\n",
    "\n",
    "# =======================input and output =============================\n",
    "sw_result_dir=os.path.join(case_dir, 'step8_raw_Sw')\n",
    "opath=os.path.join(case_dir, 'step9_merge_raw_Sw')\n",
    "if not os.path.exists(opath):\n",
    "    os.makedirs(opath)\n",
    "ofile = 'sw.tif'  \n",
    "\n",
    "# ==========================================================================\n",
    "first_day = 75   # March 15 (temperature >0)\n",
    "last_day = 167   # June 15 (snowpack disappears)\n",
    "ndays = last_day-first_day+1\n",
    "Sw_nodata=-9999\n",
    "\n",
    "for i in np.arange(ndays):\n",
    "    DOY = first_day+i\n",
    "    ofile_raster='sw_DOY'+str(DOY)+'.tif'\n",
    "    ofile_path=os.path.join(sw_result_dir,ofile_raster)\n",
    "\n",
    "# method 2: rasterio save masked array\n",
    "    with rio.open(ofile_path) as ff:\n",
    "        sw = ff.read(1)\n",
    "        sw_mask = ff.read_masks(1)\n",
    "        out_meta = ff.meta.copy()\n",
    "    if i == 0:\n",
    "        (ny,nx) = np.shape(sw)\n",
    "        Total_Radiation = np.empty((ny,nx,ndays))\n",
    "    Total_Radiation[:,:,i] = sw\n",
    "SW_Rad = np.nanmean(Total_Radiation,axis = 2) #Return Average Annual\n",
    "\n",
    "with rio.open(refraster) as ff:\n",
    "    ref_mask = ff.read_masks(1)\n",
    "    out_meta = ff.meta.copy()\n",
    "out_meta.update(count=1, dtype='float64', compress='lzw', nodata=Sw_nodata)\n",
    "\n",
    "# save into rasters\n",
    "SW_Rad[np.isnan(SW_Rad)]=Sw_nodata\n",
    "Sw_Rad_ma = np.ma.masked_array(SW_Rad,out_meta==0)\n",
    "with rio.open(os.path.join(opath,ofile), 'w', **out_meta) as outf:\n",
    "    outf.write(Sw_Rad_ma, 1)    \n",
    "    \n",
    "# method 1: GDAL save array\n",
    "#     r = gdal.Open(ofile_path)\n",
    "#     band = r.GetRasterBand(1) #bands start at one\n",
    "#     if i == 0:\n",
    "#         tpl_raster=ofile_raster\n",
    "        \n",
    "#         sw=band.ReadAsArray().astype(np.float)\n",
    "#         m = (sw==Sw_nodata)\n",
    "#         sw_mask = np.ma.make_mask(m)\n",
    "        \n",
    "#         (ny,nx) = np.shape(sw)\n",
    "#         Total_Radiation = np.empty((ny,nx,ndays))\n",
    "#     Total_Radiation[:,:,i] = band.ReadAsArray().astype(np.float)\n",
    "#     del r,band\n",
    "\n",
    "# SW_Rad = np.nanmean(Total_Radiation,axis = 2) #Return Average Annual\n",
    "\n",
    "# Sw_Rad_value=np.ma.getdata(SW_Rad)\n",
    "# Sw_Rad_value[sw_mask==True]=np.nan\n",
    "# array_to_raster(os.path.join(sw_result_dir,tpl_raster),os.path.join(opath,ofile),Sw_Rad_value,Sw_nodata)\n",
    "\n",
    "\n",
    "print('Done')"
   ]
  },
  {
   "cell_type": "code",
   "execution_count": 2,
   "metadata": {},
   "outputs": [
    {
     "data": {
      "image/png": "[encoded data removed]",
      "text/plain": [
       "<Figure size 432x288 with 1 Axes>"
      ]
     },
     "metadata": {
      "needs_background": "light"
     },
     "output_type": "display_data"
    }
   ],
   "source": [
    "import matplotlib.pyplot as plt \n",
    "\n",
    "# Choose how many bins you want here\n",
    "num_bins = 100\n",
    "\n",
    "# raw sw and its area-based cdf\n",
    "with rio.open(os.path.join(opath,ofile)) as ff:\n",
    "    sw  = ff.read(1)\n",
    "    sw_mask = ff.read_masks(1)\n",
    "origin_counts, origin_bin_edges = np.histogram(sw[sw_mask!=0], bins=num_bins)\n",
    "\n",
    "cum_counts = np.cumsum(origin_counts)\n",
    "total_count = cum_counts[-1]\n",
    "origin_cdf = cum_counts/float(total_count)\n",
    "\n",
    "# Plot comparatives cdf\n",
    "fig, ax = plt.subplots()\n",
    "ax.plot(origin_bin_edges[1:], origin_cdf, '-k', label='Original')\n",
    "plt.legend(loc='best')\n",
    "plt.show()"
   ]
  },
  {
   "cell_type": "code",
   "execution_count": 10,
   "metadata": {},
   "outputs": [
    {
     "data": {
      "text/plain": [
       "<matplotlib.image.AxesImage at 0x2af4746cd700>"
      ]
     },
     "execution_count": 10,
     "metadata": {},
     "output_type": "execute_result"
    },
    {
     "data": {
      "image/png": "[encoded data removed]",
      "text/plain": [
       "<Figure size 432x288 with 1 Axes>"
      ]
     },
     "metadata": {
      "needs_background": "light"
     },
     "output_type": "display_data"
    }
   ],
   "source": [
    "plt.imshow(SW_Rad==1367)"
   ]
  },
  {
   "cell_type": "code",
   "execution_count": 9,
   "metadata": {},
   "outputs": [
    {
     "data": {
      "text/plain": [
       "360729"
      ]
     },
     "execution_count": 9,
     "metadata": {},
     "output_type": "execute_result"
    }
   ],
   "source": [
    "len(np.where(SW_Rad==1367)[0])"
   ]
  },
  {
   "cell_type": "code",
   "execution_count": 11,
   "metadata": {},
   "outputs": [
    {
     "data": {
      "text/plain": [
       "array([[1367.        , 1367.        , 1367.        , ..., 1367.        ,\n",
       "        1367.        , 1367.        ],\n",
       "       [1367.        , 1367.        , 1367.        , ..., 1367.        ,\n",
       "        1367.        , 1367.        ],\n",
       "       [1367.        , 1367.        , 1367.        , ..., 1367.        ,\n",
       "        1367.        , 1367.        ],\n",
       "       ...,\n",
       "       [1367.        , 1367.        ,  344.78604498, ..., 1367.        ,\n",
       "        1367.        , 1367.        ],\n",
       "       [1367.        ,  342.17699987, 1367.        , ..., 1367.        ,\n",
       "        1367.        , 1367.        ],\n",
       "       [1367.        , 1367.        , 1367.        , ..., 1367.        ,\n",
       "        1367.        , 1367.        ]])"
      ]
     },
     "execution_count": 11,
     "metadata": {},
     "output_type": "execute_result"
    }
   ],
   "source": [
    "SW_Rad"
   ]
  },
  {
   "cell_type": "code",
   "execution_count": null,
   "metadata": {},
   "outputs": [],
   "source": []
  }
 ],
 "metadata": {
  "kernelspec": {
   "display_name": "conda_hongli",
   "language": "python",
   "name": "conda_hongli"
  },
  "language_info": {
   "codemirror_mode": {
    "name": "ipython",
    "version": 3
   },
   "file_extension": ".py",
   "mimetype": "text/x-python",
   "name": "python",
   "nbconvert_exporter": "python",
   "pygments_lexer": "ipython3",
   "version": "3.8.3"
  }
 },
 "nbformat": 4,
 "nbformat_minor": 4
}
