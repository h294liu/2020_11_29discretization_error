{
 "cells": [
  {
   "cell_type": "code",
   "execution_count": 5,
   "metadata": {},
   "outputs": [
    {
     "name": "stdout",
     "output_type": "stream",
     "text": [
      "day0, DOY75\n",
      "day1, DOY76\n",
      "day2, DOY77\n",
      "day3, DOY78\n",
      "day4, DOY79\n",
      "day5, DOY80\n",
      "day6, DOY81\n",
      "day7, DOY82\n",
      "day8, DOY83\n",
      "day9, DOY84\n",
      "day10, DOY85\n",
      "day11, DOY86\n",
      "day12, DOY87\n",
      "day13, DOY88\n",
      "day14, DOY89\n",
      "day15, DOY90\n",
      "day16, DOY91\n",
      "day17, DOY92\n",
      "day18, DOY93\n",
      "day19, DOY94\n",
      "day20, DOY95\n",
      "day21, DOY96\n",
      "day22, DOY97\n",
      "day23, DOY98\n",
      "day24, DOY99\n",
      "day25, DOY100\n",
      "day26, DOY101\n",
      "day27, DOY102\n",
      "day28, DOY103\n",
      "day29, DOY104\n",
      "day30, DOY105\n",
      "day31, DOY106\n",
      "day32, DOY107\n",
      "day33, DOY108\n",
      "day34, DOY109\n",
      "day35, DOY110\n",
      "day36, DOY111\n",
      "day37, DOY112\n",
      "day38, DOY113\n",
      "day39, DOY114\n",
      "day40, DOY115\n",
      "day41, DOY116\n",
      "day42, DOY117\n",
      "day43, DOY118\n",
      "day44, DOY119\n",
      "day45, DOY120\n",
      "day46, DOY121\n",
      "day47, DOY122\n",
      "day48, DOY123\n",
      "day49, DOY124\n",
      "day50, DOY125\n",
      "day51, DOY126\n",
      "day52, DOY127\n",
      "day53, DOY128\n",
      "day54, DOY129\n",
      "day55, DOY130\n",
      "day56, DOY131\n",
      "day57, DOY132\n",
      "day58, DOY133\n",
      "day59, DOY134\n",
      "day60, DOY135\n",
      "day61, DOY136\n",
      "day62, DOY137\n",
      "day63, DOY138\n",
      "day64, DOY139\n",
      "day65, DOY140\n",
      "day66, DOY141\n",
      "day67, DOY142\n",
      "day68, DOY143\n",
      "day69, DOY144\n",
      "day70, DOY145\n",
      "day71, DOY146\n",
      "day72, DOY147\n",
      "day73, DOY148\n",
      "day74, DOY149\n",
      "day75, DOY150\n",
      "day76, DOY151\n",
      "day77, DOY152\n",
      "day78, DOY153\n",
      "day79, DOY154\n",
      "day80, DOY155\n",
      "day81, DOY156\n",
      "day82, DOY157\n",
      "day83, DOY158\n",
      "day84, DOY159\n",
      "day85, DOY160\n",
      "day86, DOY161\n",
      "day87, DOY162\n",
      "day88, DOY163\n",
      "day89, DOY164\n",
      "day90, DOY165\n",
      "day91, DOY166\n",
      "day92, DOY167\n",
      "Done\n"
     ]
    }
   ],
   "source": [
    "import os, shutil\n",
    "import numpy as np\n",
    "\n",
    "# This script is to create and submit mulctiple Sw calculations\n",
    "work_dir='/glade/u/home/hongli/scratch/2020_11_29discretization_error/discretize/yampa'\n",
    "script_dir='/glade/u/home/hongli/github/2020_11_29discretization_error/radiation_wind_functions'\n",
    "script_file='step8_raw_Sw_function.py'\n",
    "raster_dir=work_dir\n",
    "\n",
    "# =======================input and output =============================\n",
    "dem_raster='dem_crop.tif'\n",
    "slp_raster='slope_crop.tif'\n",
    "asp_raster='aspect_crop.tif'\n",
    "opath=os.path.join(work_dir, 'step8_raw_Sw')\n",
    "if not os.path.exists(opath):\n",
    "    os.makedirs(opath)\n",
    "command_folder=os.path.join(work_dir, 'step8_raw_Sw_command')\n",
    "if os.path.exists(command_folder):\n",
    "    shutil.rmtree(command_folder) \n",
    "os.makedirs(command_folder)\n",
    "shutil.copyfile(os.path.join(script_dir, script_file), os.path.join(command_folder,script_file))\n",
    "\n",
    "# ==========================================================================\n",
    "first_day = 75   # March 15 (temperature >0)\n",
    "last_day = 167   # June 15 (snowpack disappears)\n",
    "ndays = last_day-first_day+1\n",
    "Sw_nodata=-9999\n",
    "\n",
    "os.chdir(command_folder)\n",
    "# for i in np.arange(1):\n",
    "for i in np.arange(ndays):\n",
    "    DOY = first_day+i\n",
    "    print('day'+str(i)+', DOY'+str(DOY))\n",
    "\n",
    "    # create command file\n",
    "    command_file='qsub_DOY'+str(DOY)+'.sh'\n",
    "    command_file_path = os.path.join(command_folder,command_file)\n",
    "    if os.path.exists(command_file_path):\n",
    "        os.remove(command_file_path)\n",
    "\n",
    "    with open(command_file_path,'w') as f:\n",
    "        f.write('#!/bin/bash\\n')\n",
    "        f.write('#PBS -N SwDOY'+str(DOY)+'\\n')\n",
    "        f.write('#PBS -A P48500028\\n')\n",
    "        f.write('#PBS -q regular\\n')\n",
    "        f.write('#PBS -l walltime=00:15:00\\n')\n",
    "        f.write('#PBS -l select=1:ncpus=1:mpiprocs=1\\n') \n",
    "        f.write('#PBS -j oe\\n\\n')\n",
    "        f.write('export TMPDIR=/glade/scratch/hongli/temp\\n')\n",
    "        f.write('mkdir -p $TMPDIR\\n\\n')         \n",
    "        f.write('module load peak_memusage\\n\\n') # monitor peak memory usage   \n",
    "        # Note: cheyenne usable memory per compute node is 45GB.\n",
    "        \n",
    "        f.write('peak_memusage.exe /glade/u/home/hongli/tools/miniconda3/envs/conda_hongli/bin/python '\\\n",
    "                +os.path.join(command_folder,script_file)+' '+raster_dir+' '\\\n",
    "                +dem_raster+' '+slp_raster+' '+asp_raster+' '+str(DOY)+' '+opath+' '+dem_raster)\n",
    "#         f.write('peak_memusage.exe python '+os.path.join(command_folder,script_file)+' '+raster_dir+' '\\\n",
    "#                 +dem_raster+' '+slp_raster+' '+asp_raster+' '+str(DOY)+' '+opath)\n",
    "\n",
    "    # submit job\n",
    "    os.system('chmod 740 '+command_file)\n",
    "    os.system('qsub '+command_file)\n",
    "\n",
    "os.chdir(work_dir)        \n",
    "print('Done')"
   ]
  },
  {
   "cell_type": "code",
   "execution_count": 2,
   "metadata": {},
   "outputs": [
    {
     "data": {
      "text/plain": [
       "<matplotlib.image.AxesImage at 0x2b9da66fae20>"
      ]
     },
     "execution_count": 2,
     "metadata": {},
     "output_type": "execute_result"
    },
    {
     "data": {
      "image/png": "[encoded data removed]",
      "text/plain": [
       "<Figure size 432x288 with 1 Axes>"
      ]
     },
     "metadata": {
      "needs_background": "light"
     },
     "output_type": "display_data"
    }
   ],
   "source": [
    "import rasterio as rio\n",
    "import matplotlib.pyplot as plt \n",
    "sw_file ='/glade/u/home/hongli/scratch/2020_11_29discretization_error/discretize/yampa/step8_raw_Sw/sw_DOY75.tif'\n",
    "\n",
    "with rio.open(sw_file) as ff:\n",
    "    in_raster_value  = ff.read(1)\n",
    "    in_raster_mask = ff.read_masks(1)\n",
    "    out_meta = ff.meta.copy()\n",
    "plt.imshow(in_raster_value)"
   ]
  },
  {
   "cell_type": "code",
   "execution_count": 3,
   "metadata": {},
   "outputs": [
    {
     "data": {
      "text/plain": [
       "array([[1367.        , 1367.        , 1367.        , ..., 1367.        ,\n",
       "        1367.        , 1367.        ],\n",
       "       [1367.        , 1367.        , 1367.        , ..., 1367.        ,\n",
       "        1367.        , 1367.        ],\n",
       "       [1367.        , 1367.        , 1367.        , ..., 1367.        ,\n",
       "        1367.        , 1367.        ],\n",
       "       ...,\n",
       "       [1367.        , 1367.        ,  241.89291308, ..., 1367.        ,\n",
       "        1367.        , 1367.        ],\n",
       "       [1367.        ,  236.10619075, 1367.        , ..., 1367.        ,\n",
       "        1367.        , 1367.        ],\n",
       "       [1367.        , 1367.        , 1367.        , ..., 1367.        ,\n",
       "        1367.        , 1367.        ]])"
      ]
     },
     "execution_count": 3,
     "metadata": {},
     "output_type": "execute_result"
    }
   ],
   "source": [
    "in_raster_value"
   ]
  },
  {
   "cell_type": "code",
   "execution_count": 28,
   "metadata": {},
   "outputs": [
    {
     "data": {
      "text/plain": [
       "<matplotlib.image.AxesImage at 0x2ac1251f9700>"
      ]
     },
     "execution_count": 28,
     "metadata": {},
     "output_type": "execute_result"
    },
    {
     "data": {
      "image/png": "[encoded data removed]",
      "text/plain": [
       "<Figure size 432x288 with 1 Axes>"
      ]
     },
     "metadata": {
      "needs_background": "light"
     },
     "output_type": "display_data"
    }
   ],
   "source": [
    "plt.imshow(in_raster_mask)"
   ]
  },
  {
   "cell_type": "code",
   "execution_count": 5,
   "metadata": {},
   "outputs": [
    {
     "data": {
      "text/plain": [
       "(9,)"
      ]
     },
     "execution_count": 5,
     "metadata": {},
     "output_type": "execute_result"
    }
   ],
   "source": [
    "np.shape(gt)"
   ]
  },
  {
   "cell_type": "code",
   "execution_count": null,
   "metadata": {},
   "outputs": [],
   "source": []
  }
 ],
 "metadata": {
  "kernelspec": {
   "display_name": "conda_hongli",
   "language": "python",
   "name": "conda_hongli"
  },
  "language_info": {
   "codemirror_mode": {
    "name": "ipython",
    "version": 3
   },
   "file_extension": ".py",
   "mimetype": "text/x-python",
   "name": "python",
   "nbconvert_exporter": "python",
   "pygments_lexer": "ipython3",
   "version": "3.8.3"
  }
 },
 "nbformat": 4,
 "nbformat_minor": 4
}
